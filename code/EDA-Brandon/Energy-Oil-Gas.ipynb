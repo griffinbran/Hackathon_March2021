{
 "cells": [
  {
   "cell_type": "code",
   "execution_count": 11,
   "metadata": {},
   "outputs": [],
   "source": [
    "# Import quick EDA Module\n",
    "from data_explorer import quick_explore"
   ]
  },
  {
   "cell_type": "code",
   "execution_count": null,
   "metadata": {},
   "outputs": [],
   "source": [
    "# Identify the dataset\n",
    "folder_name = 'News_AI_Sentiments'\n",
    "# Explore all CSV data in folder, plot distributions of values and dates\n",
    "quick_explore(folder = folder_name)"
   ]
  },
  {
   "cell_type": "code",
   "execution_count": 10,
   "metadata": {},
   "outputs": [
    {
     "name": "stdout",
     "output_type": "stream",
     "text": [
      "\n",
      "----------------------------------------------------------------------------------------------------------------\n",
      "----------------------------------------------------------------------------------------------------------------\n",
      "JODI_OIL_DEMAND\n",
      "\n"
     ]
    },
    {
     "data": {
      "text/plain": [
       "{'Sub-Sector': 'JODI OIL-WORLD DATABASE',\n",
       " 'Super Region': 'GLOBAL DATA',\n",
       " 'Energy Product': 'TOTAL OIL PRODUCTS',\n",
       " 'Flow Breakdown': 'DEMAND',\n",
       " 'Time Level': 'MONTHLY',\n",
       " 'Unit of Measurement': 'THOUSAND BARRELS PER DAY(KB-D)',\n",
       " 'Source': 'JOINT ORGANISATIONS DATA INITIATIVE - JODI'}"
      ]
     },
     "metadata": {},
     "output_type": "display_data"
    },
    {
     "data": {
      "text/html": [
       "<div>\n",
       "<style scoped>\n",
       "    .dataframe tbody tr th:only-of-type {\n",
       "        vertical-align: middle;\n",
       "    }\n",
       "\n",
       "    .dataframe tbody tr th {\n",
       "        vertical-align: top;\n",
       "    }\n",
       "\n",
       "    .dataframe thead th {\n",
       "        text-align: right;\n",
       "    }\n",
       "</style>\n",
       "<table border=\"1\" class=\"dataframe\">\n",
       "  <thead>\n",
       "    <tr style=\"text-align: right;\">\n",
       "      <th></th>\n",
       "      <th>Value</th>\n",
       "      <th>Date</th>\n",
       "      <th>Country</th>\n",
       "    </tr>\n",
       "  </thead>\n",
       "  <tbody>\n",
       "    <tr>\n",
       "      <th>0</th>\n",
       "      <td>14.74</td>\n",
       "      <td>2016-05-01</td>\n",
       "      <td>BRUNEI DARUSSALAM</td>\n",
       "    </tr>\n",
       "    <tr>\n",
       "      <th>1</th>\n",
       "      <td>14.83</td>\n",
       "      <td>2017-04-01</td>\n",
       "      <td>BRUNEI DARUSSALAM</td>\n",
       "    </tr>\n",
       "    <tr>\n",
       "      <th>2</th>\n",
       "      <td>15.53</td>\n",
       "      <td>2015-06-01</td>\n",
       "      <td>BRUNEI DARUSSALAM</td>\n",
       "    </tr>\n",
       "    <tr>\n",
       "      <th>3</th>\n",
       "      <td>14.48</td>\n",
       "      <td>2015-12-01</td>\n",
       "      <td>BRUNEI DARUSSALAM</td>\n",
       "    </tr>\n",
       "    <tr>\n",
       "      <th>4</th>\n",
       "      <td>14.36</td>\n",
       "      <td>2014-07-01</td>\n",
       "      <td>BRUNEI DARUSSALAM</td>\n",
       "    </tr>\n",
       "    <tr>\n",
       "      <th>...</th>\n",
       "      <td>...</td>\n",
       "      <td>...</td>\n",
       "      <td>...</td>\n",
       "    </tr>\n",
       "    <tr>\n",
       "      <th>17890</th>\n",
       "      <td>83.00</td>\n",
       "      <td>2013-07-01</td>\n",
       "      <td>CUBA</td>\n",
       "    </tr>\n",
       "    <tr>\n",
       "      <th>17891</th>\n",
       "      <td>54.00</td>\n",
       "      <td>2011-09-01</td>\n",
       "      <td>CUBA</td>\n",
       "    </tr>\n",
       "    <tr>\n",
       "      <th>17892</th>\n",
       "      <td>79.00</td>\n",
       "      <td>2010-10-01</td>\n",
       "      <td>CUBA</td>\n",
       "    </tr>\n",
       "    <tr>\n",
       "      <th>17893</th>\n",
       "      <td>79.00</td>\n",
       "      <td>2012-02-01</td>\n",
       "      <td>CUBA</td>\n",
       "    </tr>\n",
       "    <tr>\n",
       "      <th>17894</th>\n",
       "      <td>80.00</td>\n",
       "      <td>2012-06-01</td>\n",
       "      <td>CUBA</td>\n",
       "    </tr>\n",
       "  </tbody>\n",
       "</table>\n",
       "<p>17895 rows × 3 columns</p>\n",
       "</div>"
      ],
      "text/plain": [
       "       Value       Date            Country\n",
       "0      14.74 2016-05-01  BRUNEI DARUSSALAM\n",
       "1      14.83 2017-04-01  BRUNEI DARUSSALAM\n",
       "2      15.53 2015-06-01  BRUNEI DARUSSALAM\n",
       "3      14.48 2015-12-01  BRUNEI DARUSSALAM\n",
       "4      14.36 2014-07-01  BRUNEI DARUSSALAM\n",
       "...      ...        ...                ...\n",
       "17890  83.00 2013-07-01               CUBA\n",
       "17891  54.00 2011-09-01               CUBA\n",
       "17892  79.00 2010-10-01               CUBA\n",
       "17893  79.00 2012-02-01               CUBA\n",
       "17894  80.00 2012-06-01               CUBA\n",
       "\n",
       "[17895 rows x 3 columns]"
      ]
     },
     "metadata": {},
     "output_type": "display_data"
    },
    {
     "name": "stdout",
     "output_type": "stream",
     "text": [
      "\n",
      "Value Distribution:\n"
     ]
    },
    {
     "data": {
      "image/png": "[encoded data removed]",
      "text/plain": [
       "<Figure size 432x288 with 1 Axes>"
      ]
     },
     "metadata": {
      "needs_background": "light"
     },
     "output_type": "display_data"
    },
    {
     "data": {
      "text/plain": [
       "count    17895.000000\n",
       "mean       918.002885\n",
       "std       2469.315733\n",
       "min          0.730000\n",
       "25%         64.000000\n",
       "50%        226.000000\n",
       "75%        804.875000\n",
       "max      21741.230000\n",
       "Name: Value, dtype: float64"
      ]
     },
     "metadata": {},
     "output_type": "display_data"
    },
    {
     "name": "stdout",
     "output_type": "stream",
     "text": [
      "\n",
      "Date Distribution:\n"
     ]
    },
    {
     "data": {
      "image/png": "[encoded data removed]",
      "text/plain": [
       "<Figure size 432x288 with 1 Axes>"
      ]
     },
     "metadata": {
      "needs_background": "light"
     },
     "output_type": "display_data"
    },
    {
     "data": {
      "text/plain": [
       "count                   17895\n",
       "unique                    223\n",
       "top       2014-02-01 00:00:00\n",
       "freq                       92\n",
       "first     2002-01-31 00:00:00\n",
       "last      2020-07-01 00:00:00\n",
       "Name: Date, dtype: object"
      ]
     },
     "metadata": {},
     "output_type": "display_data"
    },
    {
     "name": "stdout",
     "output_type": "stream",
     "text": [
      "\n",
      "Country Distribution:\n"
     ]
    },
    {
     "data": {
      "image/png": "[encoded data removed]",
      "text/plain": [
       "<Figure size 432x288 with 1 Axes>"
      ]
     },
     "metadata": {
      "needs_background": "light"
     },
     "output_type": "display_data"
    },
    {
     "data": {
      "text/plain": [
       "count       17895\n",
       "unique        100\n",
       "top       GERMANY\n",
       "freq          223\n",
       "Name: Country, dtype: object"
      ]
     },
     "metadata": {},
     "output_type": "display_data"
    }
   ],
   "source": [
    "# Import Operating System Module\n",
    "directory = '../data/Energy_Oil_Gas/'\n",
    "for filename in os.listdir(directory):\n",
    "    \n",
    "    filepath = os.path.join(directory, filename)\n",
    "    \n",
    "    if filename.endswith('.csv'):\n",
    "        raw_df = pd.read_csv(filepath, infer_datetime_format = True)\n",
    "        neg_index = 4\n",
    "\n",
    "    elif filename.endswith('.xlsx'):\n",
    "        raw_df = pd.read_excel(filepath, infer_datetime_format = True)\n",
    "        neg_index = 5\n",
    "        \n",
    "    else:\n",
    "        continue\n",
    "        \n",
    "    print()\n",
    "    print('--------------'*8)\n",
    "    print('--------------'*8)\n",
    "    print(filename[:-neg_index].upper())\n",
    "    print()\n",
    "    \n",
    "    df, redund_dict1 = preprocess_data(raw_df)"
   ]
  },
  {
   "cell_type": "code",
   "execution_count": null,
   "metadata": {},
   "outputs": [],
   "source": []
  }
 ],
 "metadata": {
  "kernelspec": {
   "display_name": "Python 3",
   "language": "python",
   "name": "python3"
  },
  "language_info": {
   "codemirror_mode": {
    "name": "ipython",
    "version": 3
   },
   "file_extension": ".py",
   "mimetype": "text/x-python",
   "name": "python",
   "nbconvert_exporter": "python",
   "pygments_lexer": "ipython3",
   "version": "3.8.3"
  }
 },
 "nbformat": 4,
 "nbformat_minor": 4
}
