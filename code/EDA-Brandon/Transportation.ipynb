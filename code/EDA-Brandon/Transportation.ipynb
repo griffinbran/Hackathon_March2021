{
 "cells": [
  {
   "cell_type": "code",
   "execution_count": 3,
   "metadata": {},
   "outputs": [],
   "source": [
    "# Import quick EDA Module\n",
    "from data_explorer import quick_explore"
   ]
  },
  {
   "cell_type": "code",
   "execution_count": 4,
   "metadata": {},
   "outputs": [
    {
     "name": "stdout",
     "output_type": "stream",
     "text": [
      "\n",
      "----------------------------------------------------------------------------------------------------------------\n",
      "----------------------------------------------------------------------------------------------------------------\n",
      "APPLE_MOBILITY_GERMANY\n",
      "\n",
      "Group By: Sub Region\n"
     ]
    },
    {
     "data": {
      "text/html": [
       "<div>\n",
       "<style scoped>\n",
       "    .dataframe tbody tr th:only-of-type {\n",
       "        vertical-align: middle;\n",
       "    }\n",
       "\n",
       "    .dataframe tbody tr th {\n",
       "        vertical-align: top;\n",
       "    }\n",
       "\n",
       "    .dataframe thead tr th {\n",
       "        text-align: left;\n",
       "    }\n",
       "\n",
       "    .dataframe thead tr:last-of-type th {\n",
       "        text-align: right;\n",
       "    }\n",
       "</style>\n",
       "<table border=\"1\" class=\"dataframe\">\n",
       "  <thead>\n",
       "    <tr>\n",
       "      <th></th>\n",
       "      <th colspan=\"8\" halign=\"left\">Value</th>\n",
       "    </tr>\n",
       "    <tr>\n",
       "      <th></th>\n",
       "      <th>count</th>\n",
       "      <th>mean</th>\n",
       "      <th>std</th>\n",
       "      <th>min</th>\n",
       "      <th>25%</th>\n",
       "      <th>50%</th>\n",
       "      <th>75%</th>\n",
       "      <th>max</th>\n",
       "    </tr>\n",
       "    <tr>\n",
       "      <th>Sub Region</th>\n",
       "      <th></th>\n",
       "      <th></th>\n",
       "      <th></th>\n",
       "      <th></th>\n",
       "      <th></th>\n",
       "      <th></th>\n",
       "      <th></th>\n",
       "      <th></th>\n",
       "    </tr>\n",
       "  </thead>\n",
       "  <tbody>\n",
       "    <tr>\n",
       "      <th>BADEN-W++RTTEMBERG</th>\n",
       "      <td>3280.0</td>\n",
       "      <td>103.33</td>\n",
       "      <td>40.99</td>\n",
       "      <td>18.26</td>\n",
       "      <td>70.60</td>\n",
       "      <td>101.24</td>\n",
       "      <td>128.07</td>\n",
       "      <td>270.34</td>\n",
       "    </tr>\n",
       "    <tr>\n",
       "      <th>BAVARIA</th>\n",
       "      <td>2870.0</td>\n",
       "      <td>97.10</td>\n",
       "      <td>33.98</td>\n",
       "      <td>17.55</td>\n",
       "      <td>69.21</td>\n",
       "      <td>97.83</td>\n",
       "      <td>122.63</td>\n",
       "      <td>248.98</td>\n",
       "    </tr>\n",
       "    <tr>\n",
       "      <th>BREMEN (STATE)</th>\n",
       "      <td>820.0</td>\n",
       "      <td>91.37</td>\n",
       "      <td>26.20</td>\n",
       "      <td>33.34</td>\n",
       "      <td>72.68</td>\n",
       "      <td>88.64</td>\n",
       "      <td>111.14</td>\n",
       "      <td>176.04</td>\n",
       "    </tr>\n",
       "    <tr>\n",
       "      <th>HESSE</th>\n",
       "      <td>1640.0</td>\n",
       "      <td>87.46</td>\n",
       "      <td>25.64</td>\n",
       "      <td>28.68</td>\n",
       "      <td>67.87</td>\n",
       "      <td>86.42</td>\n",
       "      <td>106.06</td>\n",
       "      <td>247.12</td>\n",
       "    </tr>\n",
       "    <tr>\n",
       "      <th>LOWER SAXONY</th>\n",
       "      <td>1230.0</td>\n",
       "      <td>105.93</td>\n",
       "      <td>38.32</td>\n",
       "      <td>25.80</td>\n",
       "      <td>77.28</td>\n",
       "      <td>102.90</td>\n",
       "      <td>128.52</td>\n",
       "      <td>251.83</td>\n",
       "    </tr>\n",
       "    <tr>\n",
       "      <th>NORTH RHINE-WESTPHALIA</th>\n",
       "      <td>6150.0</td>\n",
       "      <td>102.55</td>\n",
       "      <td>36.02</td>\n",
       "      <td>19.46</td>\n",
       "      <td>77.26</td>\n",
       "      <td>100.80</td>\n",
       "      <td>122.48</td>\n",
       "      <td>291.59</td>\n",
       "    </tr>\n",
       "    <tr>\n",
       "      <th>SAXONY</th>\n",
       "      <td>1640.0</td>\n",
       "      <td>107.52</td>\n",
       "      <td>45.23</td>\n",
       "      <td>23.97</td>\n",
       "      <td>70.14</td>\n",
       "      <td>100.80</td>\n",
       "      <td>142.33</td>\n",
       "      <td>251.36</td>\n",
       "    </tr>\n",
       "  </tbody>\n",
       "</table>\n",
       "</div>"
      ],
      "text/plain": [
       "                         Value                                               \\\n",
       "                         count    mean    std    min    25%     50%     75%   \n",
       "Sub Region                                                                    \n",
       "BADEN-W++RTTEMBERG      3280.0  103.33  40.99  18.26  70.60  101.24  128.07   \n",
       "BAVARIA                 2870.0   97.10  33.98  17.55  69.21   97.83  122.63   \n",
       "BREMEN (STATE)           820.0   91.37  26.20  33.34  72.68   88.64  111.14   \n",
       "HESSE                   1640.0   87.46  25.64  28.68  67.87   86.42  106.06   \n",
       "LOWER SAXONY            1230.0  105.93  38.32  25.80  77.28  102.90  128.52   \n",
       "NORTH RHINE-WESTPHALIA  6150.0  102.55  36.02  19.46  77.26  100.80  122.48   \n",
       "SAXONY                  1640.0  107.52  45.23  23.97  70.14  100.80  142.33   \n",
       "\n",
       "                                \n",
       "                           max  \n",
       "Sub Region                      \n",
       "BADEN-W++RTTEMBERG      270.34  \n",
       "BAVARIA                 248.98  \n",
       "BREMEN (STATE)          176.04  \n",
       "HESSE                   247.12  \n",
       "LOWER SAXONY            251.83  \n",
       "NORTH RHINE-WESTPHALIA  291.59  \n",
       "SAXONY                  251.36  "
      ]
     },
     "metadata": {},
     "output_type": "display_data"
    },
    {
     "name": "stdout",
     "output_type": "stream",
     "text": [
      "Group By: Geography Type\n"
     ]
    },
    {
     "data": {
      "text/html": [
       "<div>\n",
       "<style scoped>\n",
       "    .dataframe tbody tr th:only-of-type {\n",
       "        vertical-align: middle;\n",
       "    }\n",
       "\n",
       "    .dataframe tbody tr th {\n",
       "        vertical-align: top;\n",
       "    }\n",
       "\n",
       "    .dataframe thead tr th {\n",
       "        text-align: left;\n",
       "    }\n",
       "\n",
       "    .dataframe thead tr:last-of-type th {\n",
       "        text-align: right;\n",
       "    }\n",
       "</style>\n",
       "<table border=\"1\" class=\"dataframe\">\n",
       "  <thead>\n",
       "    <tr>\n",
       "      <th></th>\n",
       "      <th colspan=\"8\" halign=\"left\">Value</th>\n",
       "    </tr>\n",
       "    <tr>\n",
       "      <th></th>\n",
       "      <th>count</th>\n",
       "      <th>mean</th>\n",
       "      <th>std</th>\n",
       "      <th>min</th>\n",
       "      <th>25%</th>\n",
       "      <th>50%</th>\n",
       "      <th>75%</th>\n",
       "      <th>max</th>\n",
       "    </tr>\n",
       "    <tr>\n",
       "      <th>Geography Type</th>\n",
       "      <th></th>\n",
       "      <th></th>\n",
       "      <th></th>\n",
       "      <th></th>\n",
       "      <th></th>\n",
       "      <th></th>\n",
       "      <th></th>\n",
       "      <th></th>\n",
       "    </tr>\n",
       "  </thead>\n",
       "  <tbody>\n",
       "    <tr>\n",
       "      <th>CITY</th>\n",
       "      <td>20090.0</td>\n",
       "      <td>100.57</td>\n",
       "      <td>38.09</td>\n",
       "      <td>17.55</td>\n",
       "      <td>71.62</td>\n",
       "      <td>98.62</td>\n",
       "      <td>122.96</td>\n",
       "      <td>320.55</td>\n",
       "    </tr>\n",
       "    <tr>\n",
       "      <th>SUB-REGION</th>\n",
       "      <td>15216.0</td>\n",
       "      <td>116.54</td>\n",
       "      <td>48.04</td>\n",
       "      <td>22.38</td>\n",
       "      <td>83.57</td>\n",
       "      <td>106.77</td>\n",
       "      <td>141.10</td>\n",
       "      <td>456.94</td>\n",
       "    </tr>\n",
       "  </tbody>\n",
       "</table>\n",
       "</div>"
      ],
      "text/plain": [
       "                  Value                                                     \n",
       "                  count    mean    std    min    25%     50%     75%     max\n",
       "Geography Type                                                              \n",
       "CITY            20090.0  100.57  38.09  17.55  71.62   98.62  122.96  320.55\n",
       "SUB-REGION      15216.0  116.54  48.04  22.38  83.57  106.77  141.10  456.94"
      ]
     },
     "metadata": {},
     "output_type": "display_data"
    },
    {
     "name": "stdout",
     "output_type": "stream",
     "text": [
      "Group By: Transportation Type\n"
     ]
    },
    {
     "data": {
      "text/html": [
       "<div>\n",
       "<style scoped>\n",
       "    .dataframe tbody tr th:only-of-type {\n",
       "        vertical-align: middle;\n",
       "    }\n",
       "\n",
       "    .dataframe tbody tr th {\n",
       "        vertical-align: top;\n",
       "    }\n",
       "\n",
       "    .dataframe thead tr th {\n",
       "        text-align: left;\n",
       "    }\n",
       "\n",
       "    .dataframe thead tr:last-of-type th {\n",
       "        text-align: right;\n",
       "    }\n",
       "</style>\n",
       "<table border=\"1\" class=\"dataframe\">\n",
       "  <thead>\n",
       "    <tr>\n",
       "      <th></th>\n",
       "      <th colspan=\"8\" halign=\"left\">Value</th>\n",
       "    </tr>\n",
       "    <tr>\n",
       "      <th></th>\n",
       "      <th>count</th>\n",
       "      <th>mean</th>\n",
       "      <th>std</th>\n",
       "      <th>min</th>\n",
       "      <th>25%</th>\n",
       "      <th>50%</th>\n",
       "      <th>75%</th>\n",
       "      <th>max</th>\n",
       "    </tr>\n",
       "    <tr>\n",
       "      <th>Transportation Type</th>\n",
       "      <th></th>\n",
       "      <th></th>\n",
       "      <th></th>\n",
       "      <th></th>\n",
       "      <th></th>\n",
       "      <th></th>\n",
       "      <th></th>\n",
       "      <th></th>\n",
       "    </tr>\n",
       "  </thead>\n",
       "  <tbody>\n",
       "    <tr>\n",
       "      <th>DRIVING</th>\n",
       "      <td>13940.0</td>\n",
       "      <td>100.77</td>\n",
       "      <td>37.05</td>\n",
       "      <td>21.13</td>\n",
       "      <td>74.57</td>\n",
       "      <td>97.58</td>\n",
       "      <td>120.69</td>\n",
       "      <td>379.38</td>\n",
       "    </tr>\n",
       "    <tr>\n",
       "      <th>TRANSIT</th>\n",
       "      <td>7398.0</td>\n",
       "      <td>124.47</td>\n",
       "      <td>49.17</td>\n",
       "      <td>19.33</td>\n",
       "      <td>91.85</td>\n",
       "      <td>120.99</td>\n",
       "      <td>154.99</td>\n",
       "      <td>347.00</td>\n",
       "    </tr>\n",
       "    <tr>\n",
       "      <th>WALKING</th>\n",
       "      <td>13968.0</td>\n",
       "      <td>105.12</td>\n",
       "      <td>43.64</td>\n",
       "      <td>17.55</td>\n",
       "      <td>76.08</td>\n",
       "      <td>99.48</td>\n",
       "      <td>125.47</td>\n",
       "      <td>456.94</td>\n",
       "    </tr>\n",
       "  </tbody>\n",
       "</table>\n",
       "</div>"
      ],
      "text/plain": [
       "                       Value                                               \\\n",
       "                       count    mean    std    min    25%     50%     75%   \n",
       "Transportation Type                                                         \n",
       "DRIVING              13940.0  100.77  37.05  21.13  74.57   97.58  120.69   \n",
       "TRANSIT               7398.0  124.47  49.17  19.33  91.85  120.99  154.99   \n",
       "WALKING              13968.0  105.12  43.64  17.55  76.08   99.48  125.47   \n",
       "\n",
       "                             \n",
       "                        max  \n",
       "Transportation Type          \n",
       "DRIVING              379.38  \n",
       "TRANSIT              347.00  \n",
       "WALKING              456.94  "
      ]
     },
     "metadata": {},
     "output_type": "display_data"
    },
    {
     "data": {
      "text/plain": [
       "{'Super Region': 'GLOBAL DATA',\n",
       " 'Unit': 'INDEX',\n",
       " 'Source': 'APPLE, INC.',\n",
       " 'Sub-Sector': 'APPLE MOBILITY INDEX',\n",
       " 'Frequency': 'DAILY',\n",
       " 'Country': 'GERMANY'}"
      ]
     },
     "metadata": {},
     "output_type": "display_data"
    },
    {
     "data": {
      "text/html": [
       "<div>\n",
       "<style scoped>\n",
       "    .dataframe tbody tr th:only-of-type {\n",
       "        vertical-align: middle;\n",
       "    }\n",
       "\n",
       "    .dataframe tbody tr th {\n",
       "        vertical-align: top;\n",
       "    }\n",
       "\n",
       "    .dataframe thead th {\n",
       "        text-align: right;\n",
       "    }\n",
       "</style>\n",
       "<table border=\"1\" class=\"dataframe\">\n",
       "  <thead>\n",
       "    <tr style=\"text-align: right;\">\n",
       "      <th></th>\n",
       "      <th>Value</th>\n",
       "      <th>Date</th>\n",
       "      <th>Sub Region</th>\n",
       "      <th>Geography Type</th>\n",
       "      <th>Region</th>\n",
       "      <th>Transportation Type</th>\n",
       "    </tr>\n",
       "  </thead>\n",
       "  <tbody>\n",
       "    <tr>\n",
       "      <th>0</th>\n",
       "      <td>81.14</td>\n",
       "      <td>2021-01-24</td>\n",
       "      <td>NORTH RHINE-WESTPHALIA</td>\n",
       "      <td>CITY</td>\n",
       "      <td>AACHEN</td>\n",
       "      <td>WALKING</td>\n",
       "    </tr>\n",
       "    <tr>\n",
       "      <th>1</th>\n",
       "      <td>127.55</td>\n",
       "      <td>2020-08-07</td>\n",
       "      <td>NORTH RHINE-WESTPHALIA</td>\n",
       "      <td>CITY</td>\n",
       "      <td>AACHEN</td>\n",
       "      <td>WALKING</td>\n",
       "    </tr>\n",
       "    <tr>\n",
       "      <th>2</th>\n",
       "      <td>88.19</td>\n",
       "      <td>2021-01-25</td>\n",
       "      <td>NORTH RHINE-WESTPHALIA</td>\n",
       "      <td>CITY</td>\n",
       "      <td>AACHEN</td>\n",
       "      <td>WALKING</td>\n",
       "    </tr>\n",
       "    <tr>\n",
       "      <th>3</th>\n",
       "      <td>135.66</td>\n",
       "      <td>2020-08-06</td>\n",
       "      <td>NORTH RHINE-WESTPHALIA</td>\n",
       "      <td>CITY</td>\n",
       "      <td>AACHEN</td>\n",
       "      <td>WALKING</td>\n",
       "    </tr>\n",
       "    <tr>\n",
       "      <th>4</th>\n",
       "      <td>83.67</td>\n",
       "      <td>2021-01-22</td>\n",
       "      <td>NORTH RHINE-WESTPHALIA</td>\n",
       "      <td>CITY</td>\n",
       "      <td>AACHEN</td>\n",
       "      <td>WALKING</td>\n",
       "    </tr>\n",
       "    <tr>\n",
       "      <th>...</th>\n",
       "      <td>...</td>\n",
       "      <td>...</td>\n",
       "      <td>...</td>\n",
       "      <td>...</td>\n",
       "      <td>...</td>\n",
       "      <td>...</td>\n",
       "    </tr>\n",
       "    <tr>\n",
       "      <th>35301</th>\n",
       "      <td>109.20</td>\n",
       "      <td>2020-08-30</td>\n",
       "      <td>BAVARIA</td>\n",
       "      <td>CITY</td>\n",
       "      <td>MUNICH</td>\n",
       "      <td>DRIVING</td>\n",
       "    </tr>\n",
       "    <tr>\n",
       "      <th>35302</th>\n",
       "      <td>143.20</td>\n",
       "      <td>2020-09-04</td>\n",
       "      <td>BAVARIA</td>\n",
       "      <td>CITY</td>\n",
       "      <td>MUNICH</td>\n",
       "      <td>DRIVING</td>\n",
       "    </tr>\n",
       "    <tr>\n",
       "      <th>35303</th>\n",
       "      <td>132.76</td>\n",
       "      <td>2020-09-03</td>\n",
       "      <td>BAVARIA</td>\n",
       "      <td>CITY</td>\n",
       "      <td>MUNICH</td>\n",
       "      <td>DRIVING</td>\n",
       "    </tr>\n",
       "    <tr>\n",
       "      <th>35304</th>\n",
       "      <td>126.72</td>\n",
       "      <td>2020-09-02</td>\n",
       "      <td>BAVARIA</td>\n",
       "      <td>CITY</td>\n",
       "      <td>MUNICH</td>\n",
       "      <td>DRIVING</td>\n",
       "    </tr>\n",
       "    <tr>\n",
       "      <th>35305</th>\n",
       "      <td>120.83</td>\n",
       "      <td>2020-09-01</td>\n",
       "      <td>BAVARIA</td>\n",
       "      <td>CITY</td>\n",
       "      <td>MUNICH</td>\n",
       "      <td>DRIVING</td>\n",
       "    </tr>\n",
       "  </tbody>\n",
       "</table>\n",
       "<p>35306 rows × 6 columns</p>\n",
       "</div>"
      ],
      "text/plain": [
       "        Value       Date              Sub Region Geography Type  Region  \\\n",
       "0       81.14 2021-01-24  NORTH RHINE-WESTPHALIA           CITY  AACHEN   \n",
       "1      127.55 2020-08-07  NORTH RHINE-WESTPHALIA           CITY  AACHEN   \n",
       "2       88.19 2021-01-25  NORTH RHINE-WESTPHALIA           CITY  AACHEN   \n",
       "3      135.66 2020-08-06  NORTH RHINE-WESTPHALIA           CITY  AACHEN   \n",
       "4       83.67 2021-01-22  NORTH RHINE-WESTPHALIA           CITY  AACHEN   \n",
       "...       ...        ...                     ...            ...     ...   \n",
       "35301  109.20 2020-08-30                 BAVARIA           CITY  MUNICH   \n",
       "35302  143.20 2020-09-04                 BAVARIA           CITY  MUNICH   \n",
       "35303  132.76 2020-09-03                 BAVARIA           CITY  MUNICH   \n",
       "35304  126.72 2020-09-02                 BAVARIA           CITY  MUNICH   \n",
       "35305  120.83 2020-09-01                 BAVARIA           CITY  MUNICH   \n",
       "\n",
       "      Transportation Type  \n",
       "0                 WALKING  \n",
       "1                 WALKING  \n",
       "2                 WALKING  \n",
       "3                 WALKING  \n",
       "4                 WALKING  \n",
       "...                   ...  \n",
       "35301             DRIVING  \n",
       "35302             DRIVING  \n",
       "35303             DRIVING  \n",
       "35304             DRIVING  \n",
       "35305             DRIVING  \n",
       "\n",
       "[35306 rows x 6 columns]"
      ]
     },
     "metadata": {},
     "output_type": "display_data"
    },
    {
     "name": "stdout",
     "output_type": "stream",
     "text": [
      "\n",
      "Value Distribution:\n"
     ]
    },
    {
     "data": {
      "image/png": "[encoded data removed]",
      "text/plain": [
       "<Figure size 432x288 with 1 Axes>"
      ]
     },
     "metadata": {
      "needs_background": "light"
     },
     "output_type": "display_data"
    },
    {
     "data": {
      "text/plain": [
       "count    35306.000000\n",
       "mean       107.454678\n",
       "std         43.388317\n",
       "min         17.550000\n",
       "25%         77.150000\n",
       "50%        102.090000\n",
       "75%        129.610000\n",
       "max        456.940000\n",
       "Name: Value, dtype: float64"
      ]
     },
     "metadata": {},
     "output_type": "display_data"
    },
    {
     "name": "stdout",
     "output_type": "stream",
     "text": [
      "\n",
      "Date Distribution:\n"
     ]
    },
    {
     "data": {
      "image/png": "[encoded data removed]",
      "text/plain": [
       "<Figure size 432x288 with 1 Axes>"
      ]
     },
     "metadata": {
      "needs_background": "light"
     },
     "output_type": "display_data"
    },
    {
     "data": {
      "text/plain": [
       "count                   35306\n",
       "unique                    412\n",
       "top       2020-10-28 00:00:00\n",
       "freq                       86\n",
       "first     2020-01-13 00:00:00\n",
       "last      2021-02-27 00:00:00\n",
       "Name: Date, dtype: object"
      ]
     },
     "metadata": {},
     "output_type": "display_data"
    },
    {
     "name": "stdout",
     "output_type": "stream",
     "text": [
      "\n",
      "Region Distribution:\n"
     ]
    },
    {
     "data": {
      "image/png": "[encoded data removed]",
      "text/plain": [
       "<Figure size 432x288 with 1 Axes>"
      ]
     },
     "metadata": {
      "needs_background": "light"
     },
     "output_type": "display_data"
    },
    {
     "data": {
      "text/plain": [
       "count       35306\n",
       "unique         34\n",
       "top       BAVARIA\n",
       "freq         1234\n",
       "Name: Region, dtype: object"
      ]
     },
     "metadata": {},
     "output_type": "display_data"
    },
    {
     "name": "stdout",
     "output_type": "stream",
     "text": [
      "\n",
      "----------------------------------------------------------------------------------------------------------------\n",
      "----------------------------------------------------------------------------------------------------------------\n",
      "APPLE_MOBILITY_INDIA\n",
      "\n",
      "Group By: Region\n"
     ]
    },
    {
     "data": {
      "text/html": [
       "<div>\n",
       "<style scoped>\n",
       "    .dataframe tbody tr th:only-of-type {\n",
       "        vertical-align: middle;\n",
       "    }\n",
       "\n",
       "    .dataframe tbody tr th {\n",
       "        vertical-align: top;\n",
       "    }\n",
       "\n",
       "    .dataframe thead tr th {\n",
       "        text-align: left;\n",
       "    }\n",
       "\n",
       "    .dataframe thead tr:last-of-type th {\n",
       "        text-align: right;\n",
       "    }\n",
       "</style>\n",
       "<table border=\"1\" class=\"dataframe\">\n",
       "  <thead>\n",
       "    <tr>\n",
       "      <th></th>\n",
       "      <th colspan=\"8\" halign=\"left\">Value</th>\n",
       "    </tr>\n",
       "    <tr>\n",
       "      <th></th>\n",
       "      <th>count</th>\n",
       "      <th>mean</th>\n",
       "      <th>std</th>\n",
       "      <th>min</th>\n",
       "      <th>25%</th>\n",
       "      <th>50%</th>\n",
       "      <th>75%</th>\n",
       "      <th>max</th>\n",
       "    </tr>\n",
       "    <tr>\n",
       "      <th>Region</th>\n",
       "      <th></th>\n",
       "      <th></th>\n",
       "      <th></th>\n",
       "      <th></th>\n",
       "      <th></th>\n",
       "      <th></th>\n",
       "      <th></th>\n",
       "      <th></th>\n",
       "    </tr>\n",
       "  </thead>\n",
       "  <tbody>\n",
       "    <tr>\n",
       "      <th>BANGALORE</th>\n",
       "      <td>820.0</td>\n",
       "      <td>84.57</td>\n",
       "      <td>38.35</td>\n",
       "      <td>15.15</td>\n",
       "      <td>54.91</td>\n",
       "      <td>88.39</td>\n",
       "      <td>114.22</td>\n",
       "      <td>193.24</td>\n",
       "    </tr>\n",
       "    <tr>\n",
       "      <th>CHENNAI</th>\n",
       "      <td>820.0</td>\n",
       "      <td>81.69</td>\n",
       "      <td>41.82</td>\n",
       "      <td>12.19</td>\n",
       "      <td>42.02</td>\n",
       "      <td>88.04</td>\n",
       "      <td>113.93</td>\n",
       "      <td>188.07</td>\n",
       "    </tr>\n",
       "    <tr>\n",
       "      <th>DELHI</th>\n",
       "      <td>820.0</td>\n",
       "      <td>82.17</td>\n",
       "      <td>39.48</td>\n",
       "      <td>11.84</td>\n",
       "      <td>48.36</td>\n",
       "      <td>90.07</td>\n",
       "      <td>112.84</td>\n",
       "      <td>178.48</td>\n",
       "    </tr>\n",
       "    <tr>\n",
       "      <th>HYDERABAD</th>\n",
       "      <td>820.0</td>\n",
       "      <td>106.61</td>\n",
       "      <td>48.14</td>\n",
       "      <td>17.60</td>\n",
       "      <td>69.14</td>\n",
       "      <td>113.95</td>\n",
       "      <td>145.02</td>\n",
       "      <td>217.70</td>\n",
       "    </tr>\n",
       "    <tr>\n",
       "      <th>MUMBAI</th>\n",
       "      <td>820.0</td>\n",
       "      <td>67.43</td>\n",
       "      <td>36.14</td>\n",
       "      <td>10.99</td>\n",
       "      <td>32.98</td>\n",
       "      <td>71.74</td>\n",
       "      <td>101.15</td>\n",
       "      <td>146.64</td>\n",
       "    </tr>\n",
       "    <tr>\n",
       "      <th>PUNE</th>\n",
       "      <td>820.0</td>\n",
       "      <td>83.51</td>\n",
       "      <td>46.50</td>\n",
       "      <td>9.81</td>\n",
       "      <td>44.98</td>\n",
       "      <td>86.91</td>\n",
       "      <td>120.68</td>\n",
       "      <td>199.10</td>\n",
       "    </tr>\n",
       "  </tbody>\n",
       "</table>\n",
       "</div>"
      ],
      "text/plain": [
       "           Value                                                     \n",
       "           count    mean    std    min    25%     50%     75%     max\n",
       "Region                                                               \n",
       "BANGALORE  820.0   84.57  38.35  15.15  54.91   88.39  114.22  193.24\n",
       "CHENNAI    820.0   81.69  41.82  12.19  42.02   88.04  113.93  188.07\n",
       "DELHI      820.0   82.17  39.48  11.84  48.36   90.07  112.84  178.48\n",
       "HYDERABAD  820.0  106.61  48.14  17.60  69.14  113.95  145.02  217.70\n",
       "MUMBAI     820.0   67.43  36.14  10.99  32.98   71.74  101.15  146.64\n",
       "PUNE       820.0   83.51  46.50   9.81  44.98   86.91  120.68  199.10"
      ]
     },
     "metadata": {},
     "output_type": "display_data"
    },
    {
     "name": "stdout",
     "output_type": "stream",
     "text": [
      "Group By: Transportation Type\n"
     ]
    },
    {
     "data": {
      "text/html": [
       "<div>\n",
       "<style scoped>\n",
       "    .dataframe tbody tr th:only-of-type {\n",
       "        vertical-align: middle;\n",
       "    }\n",
       "\n",
       "    .dataframe tbody tr th {\n",
       "        vertical-align: top;\n",
       "    }\n",
       "\n",
       "    .dataframe thead tr th {\n",
       "        text-align: left;\n",
       "    }\n",
       "\n",
       "    .dataframe thead tr:last-of-type th {\n",
       "        text-align: right;\n",
       "    }\n",
       "</style>\n",
       "<table border=\"1\" class=\"dataframe\">\n",
       "  <thead>\n",
       "    <tr>\n",
       "      <th></th>\n",
       "      <th colspan=\"8\" halign=\"left\">Value</th>\n",
       "    </tr>\n",
       "    <tr>\n",
       "      <th></th>\n",
       "      <th>count</th>\n",
       "      <th>mean</th>\n",
       "      <th>std</th>\n",
       "      <th>min</th>\n",
       "      <th>25%</th>\n",
       "      <th>50%</th>\n",
       "      <th>75%</th>\n",
       "      <th>max</th>\n",
       "    </tr>\n",
       "    <tr>\n",
       "      <th>Transportation Type</th>\n",
       "      <th></th>\n",
       "      <th></th>\n",
       "      <th></th>\n",
       "      <th></th>\n",
       "      <th></th>\n",
       "      <th></th>\n",
       "      <th></th>\n",
       "      <th></th>\n",
       "    </tr>\n",
       "  </thead>\n",
       "  <tbody>\n",
       "    <tr>\n",
       "      <th>DRIVING</th>\n",
       "      <td>2460.0</td>\n",
       "      <td>82.55</td>\n",
       "      <td>41.63</td>\n",
       "      <td>9.81</td>\n",
       "      <td>47.2</td>\n",
       "      <td>89.00</td>\n",
       "      <td>113.46</td>\n",
       "      <td>198.78</td>\n",
       "    </tr>\n",
       "    <tr>\n",
       "      <th>WALKING</th>\n",
       "      <td>2460.0</td>\n",
       "      <td>86.11</td>\n",
       "      <td>45.21</td>\n",
       "      <td>12.05</td>\n",
       "      <td>47.0</td>\n",
       "      <td>88.39</td>\n",
       "      <td>119.54</td>\n",
       "      <td>217.70</td>\n",
       "    </tr>\n",
       "  </tbody>\n",
       "</table>\n",
       "</div>"
      ],
      "text/plain": [
       "                      Value                                                  \n",
       "                      count   mean    std    min   25%    50%     75%     max\n",
       "Transportation Type                                                          \n",
       "DRIVING              2460.0  82.55  41.63   9.81  47.2  89.00  113.46  198.78\n",
       "WALKING              2460.0  86.11  45.21  12.05  47.0  88.39  119.54  217.70"
      ]
     },
     "metadata": {},
     "output_type": "display_data"
    },
    {
     "data": {
      "text/plain": [
       "{'Sub-Sector': 'APPLE MOBILITY INDEX',\n",
       " 'Super Region': 'GLOBAL DATA',\n",
       " 'Frequency': 'DAILY',\n",
       " 'Country': 'INDIA',\n",
       " 'Unit': 'INDEX',\n",
       " 'Geography Type': 'CITY',\n",
       " 'Source': 'APPLE, INC.'}"
      ]
     },
     "metadata": {},
     "output_type": "display_data"
    },
    {
     "data": {
      "text/html": [
       "<div>\n",
       "<style scoped>\n",
       "    .dataframe tbody tr th:only-of-type {\n",
       "        vertical-align: middle;\n",
       "    }\n",
       "\n",
       "    .dataframe tbody tr th {\n",
       "        vertical-align: top;\n",
       "    }\n",
       "\n",
       "    .dataframe thead th {\n",
       "        text-align: right;\n",
       "    }\n",
       "</style>\n",
       "<table border=\"1\" class=\"dataframe\">\n",
       "  <thead>\n",
       "    <tr style=\"text-align: right;\">\n",
       "      <th></th>\n",
       "      <th>Value</th>\n",
       "      <th>Date</th>\n",
       "      <th>Region</th>\n",
       "      <th>Transportation Type</th>\n",
       "    </tr>\n",
       "  </thead>\n",
       "  <tbody>\n",
       "    <tr>\n",
       "      <th>0</th>\n",
       "      <td>169.42</td>\n",
       "      <td>2021-01-24</td>\n",
       "      <td>PUNE</td>\n",
       "      <td>WALKING</td>\n",
       "    </tr>\n",
       "    <tr>\n",
       "      <th>1</th>\n",
       "      <td>59.76</td>\n",
       "      <td>2020-08-07</td>\n",
       "      <td>PUNE</td>\n",
       "      <td>WALKING</td>\n",
       "    </tr>\n",
       "    <tr>\n",
       "      <th>2</th>\n",
       "      <td>151.99</td>\n",
       "      <td>2021-01-25</td>\n",
       "      <td>PUNE</td>\n",
       "      <td>WALKING</td>\n",
       "    </tr>\n",
       "    <tr>\n",
       "      <th>3</th>\n",
       "      <td>52.89</td>\n",
       "      <td>2020-08-06</td>\n",
       "      <td>PUNE</td>\n",
       "      <td>WALKING</td>\n",
       "    </tr>\n",
       "    <tr>\n",
       "      <th>4</th>\n",
       "      <td>168.03</td>\n",
       "      <td>2021-01-22</td>\n",
       "      <td>PUNE</td>\n",
       "      <td>WALKING</td>\n",
       "    </tr>\n",
       "    <tr>\n",
       "      <th>...</th>\n",
       "      <td>...</td>\n",
       "      <td>...</td>\n",
       "      <td>...</td>\n",
       "      <td>...</td>\n",
       "    </tr>\n",
       "    <tr>\n",
       "      <th>4915</th>\n",
       "      <td>101.63</td>\n",
       "      <td>2020-08-30</td>\n",
       "      <td>HYDERABAD</td>\n",
       "      <td>DRIVING</td>\n",
       "    </tr>\n",
       "    <tr>\n",
       "      <th>4916</th>\n",
       "      <td>104.35</td>\n",
       "      <td>2020-09-04</td>\n",
       "      <td>HYDERABAD</td>\n",
       "      <td>DRIVING</td>\n",
       "    </tr>\n",
       "    <tr>\n",
       "      <th>4917</th>\n",
       "      <td>100.16</td>\n",
       "      <td>2020-09-03</td>\n",
       "      <td>HYDERABAD</td>\n",
       "      <td>DRIVING</td>\n",
       "    </tr>\n",
       "    <tr>\n",
       "      <th>4918</th>\n",
       "      <td>92.21</td>\n",
       "      <td>2020-09-02</td>\n",
       "      <td>HYDERABAD</td>\n",
       "      <td>DRIVING</td>\n",
       "    </tr>\n",
       "    <tr>\n",
       "      <th>4919</th>\n",
       "      <td>90.36</td>\n",
       "      <td>2020-09-01</td>\n",
       "      <td>HYDERABAD</td>\n",
       "      <td>DRIVING</td>\n",
       "    </tr>\n",
       "  </tbody>\n",
       "</table>\n",
       "<p>4920 rows × 4 columns</p>\n",
       "</div>"
      ],
      "text/plain": [
       "       Value       Date     Region Transportation Type\n",
       "0     169.42 2021-01-24       PUNE             WALKING\n",
       "1      59.76 2020-08-07       PUNE             WALKING\n",
       "2     151.99 2021-01-25       PUNE             WALKING\n",
       "3      52.89 2020-08-06       PUNE             WALKING\n",
       "4     168.03 2021-01-22       PUNE             WALKING\n",
       "...      ...        ...        ...                 ...\n",
       "4915  101.63 2020-08-30  HYDERABAD             DRIVING\n",
       "4916  104.35 2020-09-04  HYDERABAD             DRIVING\n",
       "4917  100.16 2020-09-03  HYDERABAD             DRIVING\n",
       "4918   92.21 2020-09-02  HYDERABAD             DRIVING\n",
       "4919   90.36 2020-09-01  HYDERABAD             DRIVING\n",
       "\n",
       "[4920 rows x 4 columns]"
      ]
     },
     "metadata": {},
     "output_type": "display_data"
    },
    {
     "name": "stdout",
     "output_type": "stream",
     "text": [
      "\n",
      "Value Distribution:\n"
     ]
    },
    {
     "data": {
      "image/png": "[encoded data removed]",
      "text/plain": [
       "<Figure size 432x288 with 1 Axes>"
      ]
     },
     "metadata": {
      "needs_background": "light"
     },
     "output_type": "display_data"
    },
    {
     "data": {
      "text/plain": [
       "count    4920.000000\n",
       "mean       84.328988\n",
       "std        43.490153\n",
       "min         9.810000\n",
       "25%        47.067500\n",
       "50%        88.600000\n",
       "75%       115.500000\n",
       "max       217.700000\n",
       "Name: Value, dtype: float64"
      ]
     },
     "metadata": {},
     "output_type": "display_data"
    },
    {
     "name": "stdout",
     "output_type": "stream",
     "text": [
      "\n",
      "Date Distribution:\n"
     ]
    },
    {
     "data": {
      "image/png": "[encoded data removed]",
      "text/plain": [
       "<Figure size 432x288 with 1 Axes>"
      ]
     },
     "metadata": {
      "needs_background": "light"
     },
     "output_type": "display_data"
    },
    {
     "data": {
      "text/plain": [
       "count                    4920\n",
       "unique                    410\n",
       "top       2020-06-14 00:00:00\n",
       "freq                       12\n",
       "first     2020-01-13 00:00:00\n",
       "last      2021-02-27 00:00:00\n",
       "Name: Date, dtype: object"
      ]
     },
     "metadata": {},
     "output_type": "display_data"
    },
    {
     "name": "stdout",
     "output_type": "stream",
     "text": [
      "\n",
      "----------------------------------------------------------------------------------------------------------------\n",
      "----------------------------------------------------------------------------------------------------------------\n",
      "APPLE_MOBILITY_JAPAN_DRIVING\n",
      "\n"
     ]
    },
    {
     "data": {
      "text/plain": [
       "{'Sub-Sector': 'APPLE MOBILITY INDEX',\n",
       " 'Super Region': 'GLOBAL DATA',\n",
       " 'Frequency': 'DAILY',\n",
       " 'Country': 'JAPAN',\n",
       " 'Unit': 'INDEX',\n",
       " 'Geography Type': 'SUB-REGION',\n",
       " 'Transportation Type': 'DRIVING',\n",
       " 'Source': 'APPLE, INC.'}"
      ]
     },
     "metadata": {},
     "output_type": "display_data"
    },
    {
     "data": {
      "text/html": [
       "<div>\n",
       "<style scoped>\n",
       "    .dataframe tbody tr th:only-of-type {\n",
       "        vertical-align: middle;\n",
       "    }\n",
       "\n",
       "    .dataframe tbody tr th {\n",
       "        vertical-align: top;\n",
       "    }\n",
       "\n",
       "    .dataframe thead th {\n",
       "        text-align: right;\n",
       "    }\n",
       "</style>\n",
       "<table border=\"1\" class=\"dataframe\">\n",
       "  <thead>\n",
       "    <tr style=\"text-align: right;\">\n",
       "      <th></th>\n",
       "      <th>Value</th>\n",
       "      <th>Date</th>\n",
       "      <th>Region</th>\n",
       "    </tr>\n",
       "  </thead>\n",
       "  <tbody>\n",
       "    <tr>\n",
       "      <th>0</th>\n",
       "      <td>101.03</td>\n",
       "      <td>2021-01-24</td>\n",
       "      <td>KANAGAWA PREFECTURE</td>\n",
       "    </tr>\n",
       "    <tr>\n",
       "      <th>1</th>\n",
       "      <td>166.93</td>\n",
       "      <td>2020-08-07</td>\n",
       "      <td>KANAGAWA PREFECTURE</td>\n",
       "    </tr>\n",
       "    <tr>\n",
       "      <th>2</th>\n",
       "      <td>101.60</td>\n",
       "      <td>2021-01-25</td>\n",
       "      <td>KANAGAWA PREFECTURE</td>\n",
       "    </tr>\n",
       "    <tr>\n",
       "      <th>3</th>\n",
       "      <td>147.11</td>\n",
       "      <td>2020-08-06</td>\n",
       "      <td>KANAGAWA PREFECTURE</td>\n",
       "    </tr>\n",
       "    <tr>\n",
       "      <th>4</th>\n",
       "      <td>109.04</td>\n",
       "      <td>2021-01-22</td>\n",
       "      <td>KANAGAWA PREFECTURE</td>\n",
       "    </tr>\n",
       "    <tr>\n",
       "      <th>...</th>\n",
       "      <td>...</td>\n",
       "      <td>...</td>\n",
       "      <td>...</td>\n",
       "    </tr>\n",
       "    <tr>\n",
       "      <th>19265</th>\n",
       "      <td>117.27</td>\n",
       "      <td>2020-08-30</td>\n",
       "      <td>TOKUSHIMA PREFECTURE</td>\n",
       "    </tr>\n",
       "    <tr>\n",
       "      <th>19266</th>\n",
       "      <td>125.95</td>\n",
       "      <td>2020-09-04</td>\n",
       "      <td>TOKUSHIMA PREFECTURE</td>\n",
       "    </tr>\n",
       "    <tr>\n",
       "      <th>19267</th>\n",
       "      <td>98.32</td>\n",
       "      <td>2020-09-03</td>\n",
       "      <td>TOKUSHIMA PREFECTURE</td>\n",
       "    </tr>\n",
       "    <tr>\n",
       "      <th>19268</th>\n",
       "      <td>103.86</td>\n",
       "      <td>2020-09-02</td>\n",
       "      <td>TOKUSHIMA PREFECTURE</td>\n",
       "    </tr>\n",
       "    <tr>\n",
       "      <th>19269</th>\n",
       "      <td>106.91</td>\n",
       "      <td>2020-09-01</td>\n",
       "      <td>TOKUSHIMA PREFECTURE</td>\n",
       "    </tr>\n",
       "  </tbody>\n",
       "</table>\n",
       "<p>19270 rows × 3 columns</p>\n",
       "</div>"
      ],
      "text/plain": [
       "        Value       Date                Region\n",
       "0      101.03 2021-01-24   KANAGAWA PREFECTURE\n",
       "1      166.93 2020-08-07   KANAGAWA PREFECTURE\n",
       "2      101.60 2021-01-25   KANAGAWA PREFECTURE\n",
       "3      147.11 2020-08-06   KANAGAWA PREFECTURE\n",
       "4      109.04 2021-01-22   KANAGAWA PREFECTURE\n",
       "...       ...        ...                   ...\n",
       "19265  117.27 2020-08-30  TOKUSHIMA PREFECTURE\n",
       "19266  125.95 2020-09-04  TOKUSHIMA PREFECTURE\n",
       "19267   98.32 2020-09-03  TOKUSHIMA PREFECTURE\n",
       "19268  103.86 2020-09-02  TOKUSHIMA PREFECTURE\n",
       "19269  106.91 2020-09-01  TOKUSHIMA PREFECTURE\n",
       "\n",
       "[19270 rows x 3 columns]"
      ]
     },
     "metadata": {},
     "output_type": "display_data"
    },
    {
     "name": "stdout",
     "output_type": "stream",
     "text": [
      "\n",
      "Value Distribution:\n"
     ]
    },
    {
     "data": {
      "image/png": "[encoded data removed]",
      "text/plain": [
       "<Figure size 432x288 with 1 Axes>"
      ]
     },
     "metadata": {
      "needs_background": "light"
     },
     "output_type": "display_data"
    },
    {
     "data": {
      "text/plain": [
       "count    19270.000000\n",
       "mean       118.711818\n",
       "std         33.002076\n",
       "min         20.600000\n",
       "25%         98.460000\n",
       "50%        115.215000\n",
       "75%        133.630000\n",
       "max        432.340000\n",
       "Name: Value, dtype: float64"
      ]
     },
     "metadata": {},
     "output_type": "display_data"
    },
    {
     "name": "stdout",
     "output_type": "stream",
     "text": [
      "\n",
      "Date Distribution:\n"
     ]
    },
    {
     "data": {
      "image/png": "[encoded data removed]",
      "text/plain": [
       "<Figure size 432x288 with 1 Axes>"
      ]
     },
     "metadata": {
      "needs_background": "light"
     },
     "output_type": "display_data"
    },
    {
     "data": {
      "text/plain": [
       "count                   19270\n",
       "unique                    410\n",
       "top       2021-02-06 00:00:00\n",
       "freq                       47\n",
       "first     2020-01-13 00:00:00\n",
       "last      2021-02-27 00:00:00\n",
       "Name: Date, dtype: object"
      ]
     },
     "metadata": {},
     "output_type": "display_data"
    },
    {
     "name": "stdout",
     "output_type": "stream",
     "text": [
      "\n",
      "Region Distribution:\n"
     ]
    },
    {
     "data": {
      "image/png": "[encoded data removed]",
      "text/plain": [
       "<Figure size 432x288 with 1 Axes>"
      ]
     },
     "metadata": {
      "needs_background": "light"
     },
     "output_type": "display_data"
    },
    {
     "data": {
      "text/plain": [
       "count               19270\n",
       "unique                 47\n",
       "top       NARA PREFECTURE\n",
       "freq                  410\n",
       "Name: Region, dtype: object"
      ]
     },
     "metadata": {},
     "output_type": "display_data"
    },
    {
     "name": "stdout",
     "output_type": "stream",
     "text": [
      "\n",
      "----------------------------------------------------------------------------------------------------------------\n",
      "----------------------------------------------------------------------------------------------------------------\n",
      "APPLE_MOBILITY_JAPAN_TRANSIT\n",
      "\n"
     ]
    },
    {
     "data": {
      "text/plain": [
       "{'Sub-Sector': 'APPLE MOBILITY INDEX',\n",
       " 'Super Region': 'GLOBAL DATA',\n",
       " 'Frequency': 'DAILY',\n",
       " 'Country': 'JAPAN',\n",
       " 'Unit': 'INDEX',\n",
       " 'Geography Type': 'SUB-REGION',\n",
       " 'Transportation Type': 'TRANSIT',\n",
       " 'Source': 'APPLE, INC.'}"
      ]
     },
     "metadata": {},
     "output_type": "display_data"
    },
    {
     "data": {
      "text/html": [
       "<div>\n",
       "<style scoped>\n",
       "    .dataframe tbody tr th:only-of-type {\n",
       "        vertical-align: middle;\n",
       "    }\n",
       "\n",
       "    .dataframe tbody tr th {\n",
       "        vertical-align: top;\n",
       "    }\n",
       "\n",
       "    .dataframe thead th {\n",
       "        text-align: right;\n",
       "    }\n",
       "</style>\n",
       "<table border=\"1\" class=\"dataframe\">\n",
       "  <thead>\n",
       "    <tr style=\"text-align: right;\">\n",
       "      <th></th>\n",
       "      <th>Value</th>\n",
       "      <th>Date</th>\n",
       "      <th>Region</th>\n",
       "    </tr>\n",
       "  </thead>\n",
       "  <tbody>\n",
       "    <tr>\n",
       "      <th>0</th>\n",
       "      <td>89.38</td>\n",
       "      <td>2021-01-24</td>\n",
       "      <td>ISHIKAWA PREFECTURE</td>\n",
       "    </tr>\n",
       "    <tr>\n",
       "      <th>1</th>\n",
       "      <td>167.34</td>\n",
       "      <td>2020-08-07</td>\n",
       "      <td>ISHIKAWA PREFECTURE</td>\n",
       "    </tr>\n",
       "    <tr>\n",
       "      <th>2</th>\n",
       "      <td>89.50</td>\n",
       "      <td>2021-01-25</td>\n",
       "      <td>ISHIKAWA PREFECTURE</td>\n",
       "    </tr>\n",
       "    <tr>\n",
       "      <th>3</th>\n",
       "      <td>143.18</td>\n",
       "      <td>2020-08-06</td>\n",
       "      <td>ISHIKAWA PREFECTURE</td>\n",
       "    </tr>\n",
       "    <tr>\n",
       "      <th>4</th>\n",
       "      <td>105.10</td>\n",
       "      <td>2021-01-22</td>\n",
       "      <td>ISHIKAWA PREFECTURE</td>\n",
       "    </tr>\n",
       "    <tr>\n",
       "      <th>...</th>\n",
       "      <td>...</td>\n",
       "      <td>...</td>\n",
       "      <td>...</td>\n",
       "    </tr>\n",
       "    <tr>\n",
       "      <th>19359</th>\n",
       "      <td>132.69</td>\n",
       "      <td>2020-08-30</td>\n",
       "      <td>SHIZUOKA PREFECTURE</td>\n",
       "    </tr>\n",
       "    <tr>\n",
       "      <th>19360</th>\n",
       "      <td>166.58</td>\n",
       "      <td>2020-09-04</td>\n",
       "      <td>SHIZUOKA PREFECTURE</td>\n",
       "    </tr>\n",
       "    <tr>\n",
       "      <th>19361</th>\n",
       "      <td>130.58</td>\n",
       "      <td>2020-09-03</td>\n",
       "      <td>SHIZUOKA PREFECTURE</td>\n",
       "    </tr>\n",
       "    <tr>\n",
       "      <th>19362</th>\n",
       "      <td>124.71</td>\n",
       "      <td>2020-09-02</td>\n",
       "      <td>SHIZUOKA PREFECTURE</td>\n",
       "    </tr>\n",
       "    <tr>\n",
       "      <th>19363</th>\n",
       "      <td>126.44</td>\n",
       "      <td>2020-09-01</td>\n",
       "      <td>SHIZUOKA PREFECTURE</td>\n",
       "    </tr>\n",
       "  </tbody>\n",
       "</table>\n",
       "<p>19364 rows × 3 columns</p>\n",
       "</div>"
      ],
      "text/plain": [
       "        Value       Date               Region\n",
       "0       89.38 2021-01-24  ISHIKAWA PREFECTURE\n",
       "1      167.34 2020-08-07  ISHIKAWA PREFECTURE\n",
       "2       89.50 2021-01-25  ISHIKAWA PREFECTURE\n",
       "3      143.18 2020-08-06  ISHIKAWA PREFECTURE\n",
       "4      105.10 2021-01-22  ISHIKAWA PREFECTURE\n",
       "...       ...        ...                  ...\n",
       "19359  132.69 2020-08-30  SHIZUOKA PREFECTURE\n",
       "19360  166.58 2020-09-04  SHIZUOKA PREFECTURE\n",
       "19361  130.58 2020-09-03  SHIZUOKA PREFECTURE\n",
       "19362  124.71 2020-09-02  SHIZUOKA PREFECTURE\n",
       "19363  126.44 2020-09-01  SHIZUOKA PREFECTURE\n",
       "\n",
       "[19364 rows x 3 columns]"
      ]
     },
     "metadata": {},
     "output_type": "display_data"
    },
    {
     "name": "stdout",
     "output_type": "stream",
     "text": [
      "\n",
      "Value Distribution:\n"
     ]
    },
    {
     "data": {
      "image/png": "[encoded data removed]",
      "text/plain": [
       "<Figure size 432x288 with 1 Axes>"
      ]
     },
     "metadata": {
      "needs_background": "light"
     },
     "output_type": "display_data"
    },
    {
     "data": {
      "text/plain": [
       "count    19364.000000\n",
       "mean       116.588735\n",
       "std         33.747652\n",
       "min         27.760000\n",
       "25%         95.177500\n",
       "50%        113.840000\n",
       "75%        134.810000\n",
       "max        398.030000\n",
       "Name: Value, dtype: float64"
      ]
     },
     "metadata": {},
     "output_type": "display_data"
    },
    {
     "name": "stdout",
     "output_type": "stream",
     "text": [
      "\n",
      "Date Distribution:\n"
     ]
    },
    {
     "data": {
      "image/png": "[encoded data removed]",
      "text/plain": [
       "<Figure size 432x288 with 1 Axes>"
      ]
     },
     "metadata": {
      "needs_background": "light"
     },
     "output_type": "display_data"
    },
    {
     "data": {
      "text/plain": [
       "count                   19364\n",
       "unique                    412\n",
       "top       2021-02-06 00:00:00\n",
       "freq                       47\n",
       "first     2020-01-13 00:00:00\n",
       "last      2021-02-27 00:00:00\n",
       "Name: Date, dtype: object"
      ]
     },
     "metadata": {},
     "output_type": "display_data"
    },
    {
     "name": "stdout",
     "output_type": "stream",
     "text": [
      "\n",
      "Region Distribution:\n"
     ]
    },
    {
     "data": {
      "image/png": "[encoded data removed]",
      "text/plain": [
       "<Figure size 432x288 with 1 Axes>"
      ]
     },
     "metadata": {
      "needs_background": "light"
     },
     "output_type": "display_data"
    },
    {
     "data": {
      "text/plain": [
       "count               19364\n",
       "unique                 47\n",
       "top       NARA PREFECTURE\n",
       "freq                  412\n",
       "Name: Region, dtype: object"
      ]
     },
     "metadata": {},
     "output_type": "display_data"
    },
    {
     "name": "stdout",
     "output_type": "stream",
     "text": [
      "\n",
      "----------------------------------------------------------------------------------------------------------------\n",
      "----------------------------------------------------------------------------------------------------------------\n",
      "APPLE_MOBILITY_JAPAN_WALKING\n",
      "\n"
     ]
    },
    {
     "data": {
      "text/plain": [
       "{'Sub-Sector': 'APPLE MOBILITY INDEX',\n",
       " 'Super Region': 'GLOBAL DATA',\n",
       " 'Frequency': 'DAILY',\n",
       " 'Country': 'JAPAN',\n",
       " 'Unit': 'INDEX',\n",
       " 'Geography Type': 'SUB-REGION',\n",
       " 'Transportation Type': 'WALKING',\n",
       " 'Source': 'APPLE, INC.'}"
      ]
     },
     "metadata": {},
     "output_type": "display_data"
    },
    {
     "data": {
      "text/html": [
       "<div>\n",
       "<style scoped>\n",
       "    .dataframe tbody tr th:only-of-type {\n",
       "        vertical-align: middle;\n",
       "    }\n",
       "\n",
       "    .dataframe tbody tr th {\n",
       "        vertical-align: top;\n",
       "    }\n",
       "\n",
       "    .dataframe thead th {\n",
       "        text-align: right;\n",
       "    }\n",
       "</style>\n",
       "<table border=\"1\" class=\"dataframe\">\n",
       "  <thead>\n",
       "    <tr style=\"text-align: right;\">\n",
       "      <th></th>\n",
       "      <th>Value</th>\n",
       "      <th>Date</th>\n",
       "      <th>Region</th>\n",
       "    </tr>\n",
       "  </thead>\n",
       "  <tbody>\n",
       "    <tr>\n",
       "      <th>0</th>\n",
       "      <td>70.62</td>\n",
       "      <td>2021-01-24</td>\n",
       "      <td>HOKKAIDO (PREFECTURE)</td>\n",
       "    </tr>\n",
       "    <tr>\n",
       "      <th>1</th>\n",
       "      <td>139.67</td>\n",
       "      <td>2020-08-07</td>\n",
       "      <td>HOKKAIDO (PREFECTURE)</td>\n",
       "    </tr>\n",
       "    <tr>\n",
       "      <th>2</th>\n",
       "      <td>67.50</td>\n",
       "      <td>2021-01-25</td>\n",
       "      <td>HOKKAIDO (PREFECTURE)</td>\n",
       "    </tr>\n",
       "    <tr>\n",
       "      <th>3</th>\n",
       "      <td>113.21</td>\n",
       "      <td>2020-08-06</td>\n",
       "      <td>HOKKAIDO (PREFECTURE)</td>\n",
       "    </tr>\n",
       "    <tr>\n",
       "      <th>4</th>\n",
       "      <td>80.27</td>\n",
       "      <td>2021-01-22</td>\n",
       "      <td>HOKKAIDO (PREFECTURE)</td>\n",
       "    </tr>\n",
       "    <tr>\n",
       "      <th>...</th>\n",
       "      <td>...</td>\n",
       "      <td>...</td>\n",
       "      <td>...</td>\n",
       "    </tr>\n",
       "    <tr>\n",
       "      <th>19359</th>\n",
       "      <td>113.63</td>\n",
       "      <td>2020-08-30</td>\n",
       "      <td>OKAYAMA PREFECTURE</td>\n",
       "    </tr>\n",
       "    <tr>\n",
       "      <th>19360</th>\n",
       "      <td>138.97</td>\n",
       "      <td>2020-09-04</td>\n",
       "      <td>OKAYAMA PREFECTURE</td>\n",
       "    </tr>\n",
       "    <tr>\n",
       "      <th>19361</th>\n",
       "      <td>115.86</td>\n",
       "      <td>2020-09-03</td>\n",
       "      <td>OKAYAMA PREFECTURE</td>\n",
       "    </tr>\n",
       "    <tr>\n",
       "      <th>19362</th>\n",
       "      <td>115.63</td>\n",
       "      <td>2020-09-02</td>\n",
       "      <td>OKAYAMA PREFECTURE</td>\n",
       "    </tr>\n",
       "    <tr>\n",
       "      <th>19363</th>\n",
       "      <td>114.48</td>\n",
       "      <td>2020-09-01</td>\n",
       "      <td>OKAYAMA PREFECTURE</td>\n",
       "    </tr>\n",
       "  </tbody>\n",
       "</table>\n",
       "<p>19364 rows × 3 columns</p>\n",
       "</div>"
      ],
      "text/plain": [
       "        Value       Date                 Region\n",
       "0       70.62 2021-01-24  HOKKAIDO (PREFECTURE)\n",
       "1      139.67 2020-08-07  HOKKAIDO (PREFECTURE)\n",
       "2       67.50 2021-01-25  HOKKAIDO (PREFECTURE)\n",
       "3      113.21 2020-08-06  HOKKAIDO (PREFECTURE)\n",
       "4       80.27 2021-01-22  HOKKAIDO (PREFECTURE)\n",
       "...       ...        ...                    ...\n",
       "19359  113.63 2020-08-30     OKAYAMA PREFECTURE\n",
       "19360  138.97 2020-09-04     OKAYAMA PREFECTURE\n",
       "19361  115.86 2020-09-03     OKAYAMA PREFECTURE\n",
       "19362  115.63 2020-09-02     OKAYAMA PREFECTURE\n",
       "19363  114.48 2020-09-01     OKAYAMA PREFECTURE\n",
       "\n",
       "[19364 rows x 3 columns]"
      ]
     },
     "metadata": {},
     "output_type": "display_data"
    },
    {
     "name": "stdout",
     "output_type": "stream",
     "text": [
      "\n",
      "Value Distribution:\n"
     ]
    },
    {
     "data": {
      "image/png": "[encoded data removed]",
      "text/plain": [
       "<Figure size 432x288 with 1 Axes>"
      ]
     },
     "metadata": {
      "needs_background": "light"
     },
     "output_type": "display_data"
    },
    {
     "data": {
      "text/plain": [
       "count    19364.000000\n",
       "mean       120.794962\n",
       "std         35.612241\n",
       "min         16.020000\n",
       "25%         96.100000\n",
       "50%        116.775000\n",
       "75%        140.820000\n",
       "max        400.650000\n",
       "Name: Value, dtype: float64"
      ]
     },
     "metadata": {},
     "output_type": "display_data"
    },
    {
     "name": "stdout",
     "output_type": "stream",
     "text": [
      "\n",
      "Date Distribution:\n"
     ]
    },
    {
     "data": {
      "image/png": "[encoded data removed]",
      "text/plain": [
       "<Figure size 432x288 with 1 Axes>"
      ]
     },
     "metadata": {
      "needs_background": "light"
     },
     "output_type": "display_data"
    },
    {
     "data": {
      "text/plain": [
       "count                   19364\n",
       "unique                    412\n",
       "top       2021-02-06 00:00:00\n",
       "freq                       47\n",
       "first     2020-01-13 00:00:00\n",
       "last      2021-02-27 00:00:00\n",
       "Name: Date, dtype: object"
      ]
     },
     "metadata": {},
     "output_type": "display_data"
    },
    {
     "name": "stdout",
     "output_type": "stream",
     "text": [
      "\n",
      "Region Distribution:\n"
     ]
    },
    {
     "data": {
      "image/png": "[encoded data removed]",
      "text/plain": [
       "<Figure size 432x288 with 1 Axes>"
      ]
     },
     "metadata": {
      "needs_background": "light"
     },
     "output_type": "display_data"
    },
    {
     "data": {
      "text/plain": [
       "count               19364\n",
       "unique                 47\n",
       "top       NARA PREFECTURE\n",
       "freq                  412\n",
       "Name: Region, dtype: object"
      ]
     },
     "metadata": {},
     "output_type": "display_data"
    },
    {
     "name": "stdout",
     "output_type": "stream",
     "text": [
      "\n",
      "----------------------------------------------------------------------------------------------------------------\n",
      "----------------------------------------------------------------------------------------------------------------\n",
      "APPLE_MOBILITY_RUSSIA\n",
      "\n",
      "Group By: Sub Region\n"
     ]
    },
    {
     "data": {
      "text/html": [
       "<div>\n",
       "<style scoped>\n",
       "    .dataframe tbody tr th:only-of-type {\n",
       "        vertical-align: middle;\n",
       "    }\n",
       "\n",
       "    .dataframe tbody tr th {\n",
       "        vertical-align: top;\n",
       "    }\n",
       "\n",
       "    .dataframe thead tr th {\n",
       "        text-align: left;\n",
       "    }\n",
       "\n",
       "    .dataframe thead tr:last-of-type th {\n",
       "        text-align: right;\n",
       "    }\n",
       "</style>\n",
       "<table border=\"1\" class=\"dataframe\">\n",
       "  <thead>\n",
       "    <tr>\n",
       "      <th></th>\n",
       "      <th colspan=\"8\" halign=\"left\">Value</th>\n",
       "    </tr>\n",
       "    <tr>\n",
       "      <th></th>\n",
       "      <th>count</th>\n",
       "      <th>mean</th>\n",
       "      <th>std</th>\n",
       "      <th>min</th>\n",
       "      <th>25%</th>\n",
       "      <th>50%</th>\n",
       "      <th>75%</th>\n",
       "      <th>max</th>\n",
       "    </tr>\n",
       "    <tr>\n",
       "      <th>Sub Region</th>\n",
       "      <th></th>\n",
       "      <th></th>\n",
       "      <th></th>\n",
       "      <th></th>\n",
       "      <th></th>\n",
       "      <th></th>\n",
       "      <th></th>\n",
       "      <th></th>\n",
       "    </tr>\n",
       "  </thead>\n",
       "  <tbody>\n",
       "    <tr>\n",
       "      <th>KRASNODAR KRAI</th>\n",
       "      <td>820.0</td>\n",
       "      <td>116.96</td>\n",
       "      <td>39.67</td>\n",
       "      <td>22.29</td>\n",
       "      <td>96.23</td>\n",
       "      <td>117.08</td>\n",
       "      <td>143.72</td>\n",
       "      <td>298.57</td>\n",
       "    </tr>\n",
       "    <tr>\n",
       "      <th>ROSTOV OBLAST</th>\n",
       "      <td>820.0</td>\n",
       "      <td>106.89</td>\n",
       "      <td>34.10</td>\n",
       "      <td>32.27</td>\n",
       "      <td>91.25</td>\n",
       "      <td>104.79</td>\n",
       "      <td>124.45</td>\n",
       "      <td>296.91</td>\n",
       "    </tr>\n",
       "  </tbody>\n",
       "</table>\n",
       "</div>"
      ],
      "text/plain": [
       "                Value                                                     \n",
       "                count    mean    std    min    25%     50%     75%     max\n",
       "Sub Region                                                                \n",
       "KRASNODAR KRAI  820.0  116.96  39.67  22.29  96.23  117.08  143.72  298.57\n",
       "ROSTOV OBLAST   820.0  106.89  34.10  32.27  91.25  104.79  124.45  296.91"
      ]
     },
     "metadata": {},
     "output_type": "display_data"
    },
    {
     "name": "stdout",
     "output_type": "stream",
     "text": [
      "Group By: Region\n"
     ]
    },
    {
     "data": {
      "text/html": [
       "<div>\n",
       "<style scoped>\n",
       "    .dataframe tbody tr th:only-of-type {\n",
       "        vertical-align: middle;\n",
       "    }\n",
       "\n",
       "    .dataframe tbody tr th {\n",
       "        vertical-align: top;\n",
       "    }\n",
       "\n",
       "    .dataframe thead tr th {\n",
       "        text-align: left;\n",
       "    }\n",
       "\n",
       "    .dataframe thead tr:last-of-type th {\n",
       "        text-align: right;\n",
       "    }\n",
       "</style>\n",
       "<table border=\"1\" class=\"dataframe\">\n",
       "  <thead>\n",
       "    <tr>\n",
       "      <th></th>\n",
       "      <th colspan=\"8\" halign=\"left\">Value</th>\n",
       "    </tr>\n",
       "    <tr>\n",
       "      <th></th>\n",
       "      <th>count</th>\n",
       "      <th>mean</th>\n",
       "      <th>std</th>\n",
       "      <th>min</th>\n",
       "      <th>25%</th>\n",
       "      <th>50%</th>\n",
       "      <th>75%</th>\n",
       "      <th>max</th>\n",
       "    </tr>\n",
       "    <tr>\n",
       "      <th>Region</th>\n",
       "      <th></th>\n",
       "      <th></th>\n",
       "      <th></th>\n",
       "      <th></th>\n",
       "      <th></th>\n",
       "      <th></th>\n",
       "      <th></th>\n",
       "      <th></th>\n",
       "    </tr>\n",
       "  </thead>\n",
       "  <tbody>\n",
       "    <tr>\n",
       "      <th>KRASNODAR</th>\n",
       "      <td>820.0</td>\n",
       "      <td>116.96</td>\n",
       "      <td>39.67</td>\n",
       "      <td>22.29</td>\n",
       "      <td>96.23</td>\n",
       "      <td>117.08</td>\n",
       "      <td>143.72</td>\n",
       "      <td>298.57</td>\n",
       "    </tr>\n",
       "    <tr>\n",
       "      <th>MOSCOW</th>\n",
       "      <td>820.0</td>\n",
       "      <td>104.57</td>\n",
       "      <td>35.84</td>\n",
       "      <td>22.32</td>\n",
       "      <td>88.31</td>\n",
       "      <td>107.39</td>\n",
       "      <td>129.74</td>\n",
       "      <td>269.76</td>\n",
       "    </tr>\n",
       "    <tr>\n",
       "      <th>ROSTOV-ON-DON</th>\n",
       "      <td>820.0</td>\n",
       "      <td>106.89</td>\n",
       "      <td>34.10</td>\n",
       "      <td>32.27</td>\n",
       "      <td>91.25</td>\n",
       "      <td>104.79</td>\n",
       "      <td>124.45</td>\n",
       "      <td>296.91</td>\n",
       "    </tr>\n",
       "    <tr>\n",
       "      <th>SAINT PETERSBURG - RUSSIA</th>\n",
       "      <td>820.0</td>\n",
       "      <td>111.19</td>\n",
       "      <td>41.75</td>\n",
       "      <td>22.23</td>\n",
       "      <td>90.02</td>\n",
       "      <td>106.28</td>\n",
       "      <td>132.85</td>\n",
       "      <td>248.18</td>\n",
       "    </tr>\n",
       "  </tbody>\n",
       "</table>\n",
       "</div>"
      ],
      "text/plain": [
       "                           Value                                               \\\n",
       "                           count    mean    std    min    25%     50%     75%   \n",
       "Region                                                                          \n",
       "KRASNODAR                  820.0  116.96  39.67  22.29  96.23  117.08  143.72   \n",
       "MOSCOW                     820.0  104.57  35.84  22.32  88.31  107.39  129.74   \n",
       "ROSTOV-ON-DON              820.0  106.89  34.10  32.27  91.25  104.79  124.45   \n",
       "SAINT PETERSBURG - RUSSIA  820.0  111.19  41.75  22.23  90.02  106.28  132.85   \n",
       "\n",
       "                                   \n",
       "                              max  \n",
       "Region                             \n",
       "KRASNODAR                  298.57  \n",
       "MOSCOW                     269.76  \n",
       "ROSTOV-ON-DON              296.91  \n",
       "SAINT PETERSBURG - RUSSIA  248.18  "
      ]
     },
     "metadata": {},
     "output_type": "display_data"
    },
    {
     "name": "stdout",
     "output_type": "stream",
     "text": [
      "Group By: Transportation Type\n"
     ]
    },
    {
     "data": {
      "text/html": [
       "<div>\n",
       "<style scoped>\n",
       "    .dataframe tbody tr th:only-of-type {\n",
       "        vertical-align: middle;\n",
       "    }\n",
       "\n",
       "    .dataframe tbody tr th {\n",
       "        vertical-align: top;\n",
       "    }\n",
       "\n",
       "    .dataframe thead tr th {\n",
       "        text-align: left;\n",
       "    }\n",
       "\n",
       "    .dataframe thead tr:last-of-type th {\n",
       "        text-align: right;\n",
       "    }\n",
       "</style>\n",
       "<table border=\"1\" class=\"dataframe\">\n",
       "  <thead>\n",
       "    <tr>\n",
       "      <th></th>\n",
       "      <th colspan=\"8\" halign=\"left\">Value</th>\n",
       "    </tr>\n",
       "    <tr>\n",
       "      <th></th>\n",
       "      <th>count</th>\n",
       "      <th>mean</th>\n",
       "      <th>std</th>\n",
       "      <th>min</th>\n",
       "      <th>25%</th>\n",
       "      <th>50%</th>\n",
       "      <th>75%</th>\n",
       "      <th>max</th>\n",
       "    </tr>\n",
       "    <tr>\n",
       "      <th>Transportation Type</th>\n",
       "      <th></th>\n",
       "      <th></th>\n",
       "      <th></th>\n",
       "      <th></th>\n",
       "      <th></th>\n",
       "      <th></th>\n",
       "      <th></th>\n",
       "      <th></th>\n",
       "    </tr>\n",
       "  </thead>\n",
       "  <tbody>\n",
       "    <tr>\n",
       "      <th>DRIVING</th>\n",
       "      <td>1640.0</td>\n",
       "      <td>106.90</td>\n",
       "      <td>32.55</td>\n",
       "      <td>22.29</td>\n",
       "      <td>91.69</td>\n",
       "      <td>106.16</td>\n",
       "      <td>128.71</td>\n",
       "      <td>269.76</td>\n",
       "    </tr>\n",
       "    <tr>\n",
       "      <th>WALKING</th>\n",
       "      <td>1640.0</td>\n",
       "      <td>112.91</td>\n",
       "      <td>42.98</td>\n",
       "      <td>22.23</td>\n",
       "      <td>90.30</td>\n",
       "      <td>111.09</td>\n",
       "      <td>137.52</td>\n",
       "      <td>298.57</td>\n",
       "    </tr>\n",
       "  </tbody>\n",
       "</table>\n",
       "</div>"
      ],
      "text/plain": [
       "                      Value                                               \\\n",
       "                      count    mean    std    min    25%     50%     75%   \n",
       "Transportation Type                                                        \n",
       "DRIVING              1640.0  106.90  32.55  22.29  91.69  106.16  128.71   \n",
       "WALKING              1640.0  112.91  42.98  22.23  90.30  111.09  137.52   \n",
       "\n",
       "                             \n",
       "                        max  \n",
       "Transportation Type          \n",
       "DRIVING              269.76  \n",
       "WALKING              298.57  "
      ]
     },
     "metadata": {},
     "output_type": "display_data"
    },
    {
     "data": {
      "text/plain": [
       "{'Super Region': 'GLOBAL DATA',\n",
       " 'Unit': 'INDEX',\n",
       " 'Geography Type': 'CITY',\n",
       " 'Source': 'APPLE, INC.',\n",
       " 'Sub-Sector': 'APPLE MOBILITY INDEX',\n",
       " 'Frequency': 'DAILY',\n",
       " 'Country': 'RUSSIA'}"
      ]
     },
     "metadata": {},
     "output_type": "display_data"
    },
    {
     "data": {
      "text/html": [
       "<div>\n",
       "<style scoped>\n",
       "    .dataframe tbody tr th:only-of-type {\n",
       "        vertical-align: middle;\n",
       "    }\n",
       "\n",
       "    .dataframe tbody tr th {\n",
       "        vertical-align: top;\n",
       "    }\n",
       "\n",
       "    .dataframe thead th {\n",
       "        text-align: right;\n",
       "    }\n",
       "</style>\n",
       "<table border=\"1\" class=\"dataframe\">\n",
       "  <thead>\n",
       "    <tr style=\"text-align: right;\">\n",
       "      <th></th>\n",
       "      <th>Value</th>\n",
       "      <th>Date</th>\n",
       "      <th>Sub Region</th>\n",
       "      <th>Region</th>\n",
       "      <th>Transportation Type</th>\n",
       "    </tr>\n",
       "  </thead>\n",
       "  <tbody>\n",
       "    <tr>\n",
       "      <th>0</th>\n",
       "      <td>97.32</td>\n",
       "      <td>2021-01-24</td>\n",
       "      <td>ROSTOV OBLAST</td>\n",
       "      <td>ROSTOV-ON-DON</td>\n",
       "      <td>DRIVING</td>\n",
       "    </tr>\n",
       "    <tr>\n",
       "      <th>1</th>\n",
       "      <td>145.53</td>\n",
       "      <td>2020-08-07</td>\n",
       "      <td>ROSTOV OBLAST</td>\n",
       "      <td>ROSTOV-ON-DON</td>\n",
       "      <td>DRIVING</td>\n",
       "    </tr>\n",
       "    <tr>\n",
       "      <th>2</th>\n",
       "      <td>100.74</td>\n",
       "      <td>2021-01-25</td>\n",
       "      <td>ROSTOV OBLAST</td>\n",
       "      <td>ROSTOV-ON-DON</td>\n",
       "      <td>DRIVING</td>\n",
       "    </tr>\n",
       "    <tr>\n",
       "      <th>3</th>\n",
       "      <td>143.25</td>\n",
       "      <td>2020-08-06</td>\n",
       "      <td>ROSTOV OBLAST</td>\n",
       "      <td>ROSTOV-ON-DON</td>\n",
       "      <td>DRIVING</td>\n",
       "    </tr>\n",
       "    <tr>\n",
       "      <th>4</th>\n",
       "      <td>99.27</td>\n",
       "      <td>2021-01-22</td>\n",
       "      <td>ROSTOV OBLAST</td>\n",
       "      <td>ROSTOV-ON-DON</td>\n",
       "      <td>DRIVING</td>\n",
       "    </tr>\n",
       "    <tr>\n",
       "      <th>...</th>\n",
       "      <td>...</td>\n",
       "      <td>...</td>\n",
       "      <td>...</td>\n",
       "      <td>...</td>\n",
       "      <td>...</td>\n",
       "    </tr>\n",
       "    <tr>\n",
       "      <th>3275</th>\n",
       "      <td>150.97</td>\n",
       "      <td>2020-08-30</td>\n",
       "      <td>NaN</td>\n",
       "      <td>SAINT PETERSBURG - RUSSIA</td>\n",
       "      <td>DRIVING</td>\n",
       "    </tr>\n",
       "    <tr>\n",
       "      <th>3276</th>\n",
       "      <td>174.65</td>\n",
       "      <td>2020-09-04</td>\n",
       "      <td>NaN</td>\n",
       "      <td>SAINT PETERSBURG - RUSSIA</td>\n",
       "      <td>DRIVING</td>\n",
       "    </tr>\n",
       "    <tr>\n",
       "      <th>3277</th>\n",
       "      <td>160.79</td>\n",
       "      <td>2020-09-03</td>\n",
       "      <td>NaN</td>\n",
       "      <td>SAINT PETERSBURG - RUSSIA</td>\n",
       "      <td>DRIVING</td>\n",
       "    </tr>\n",
       "    <tr>\n",
       "      <th>3278</th>\n",
       "      <td>157.54</td>\n",
       "      <td>2020-09-02</td>\n",
       "      <td>NaN</td>\n",
       "      <td>SAINT PETERSBURG - RUSSIA</td>\n",
       "      <td>DRIVING</td>\n",
       "    </tr>\n",
       "    <tr>\n",
       "      <th>3279</th>\n",
       "      <td>163.73</td>\n",
       "      <td>2020-09-01</td>\n",
       "      <td>NaN</td>\n",
       "      <td>SAINT PETERSBURG - RUSSIA</td>\n",
       "      <td>DRIVING</td>\n",
       "    </tr>\n",
       "  </tbody>\n",
       "</table>\n",
       "<p>3280 rows × 5 columns</p>\n",
       "</div>"
      ],
      "text/plain": [
       "       Value       Date     Sub Region                     Region  \\\n",
       "0      97.32 2021-01-24  ROSTOV OBLAST              ROSTOV-ON-DON   \n",
       "1     145.53 2020-08-07  ROSTOV OBLAST              ROSTOV-ON-DON   \n",
       "2     100.74 2021-01-25  ROSTOV OBLAST              ROSTOV-ON-DON   \n",
       "3     143.25 2020-08-06  ROSTOV OBLAST              ROSTOV-ON-DON   \n",
       "4      99.27 2021-01-22  ROSTOV OBLAST              ROSTOV-ON-DON   \n",
       "...      ...        ...            ...                        ...   \n",
       "3275  150.97 2020-08-30            NaN  SAINT PETERSBURG - RUSSIA   \n",
       "3276  174.65 2020-09-04            NaN  SAINT PETERSBURG - RUSSIA   \n",
       "3277  160.79 2020-09-03            NaN  SAINT PETERSBURG - RUSSIA   \n",
       "3278  157.54 2020-09-02            NaN  SAINT PETERSBURG - RUSSIA   \n",
       "3279  163.73 2020-09-01            NaN  SAINT PETERSBURG - RUSSIA   \n",
       "\n",
       "     Transportation Type  \n",
       "0                DRIVING  \n",
       "1                DRIVING  \n",
       "2                DRIVING  \n",
       "3                DRIVING  \n",
       "4                DRIVING  \n",
       "...                  ...  \n",
       "3275             DRIVING  \n",
       "3276             DRIVING  \n",
       "3277             DRIVING  \n",
       "3278             DRIVING  \n",
       "3279             DRIVING  \n",
       "\n",
       "[3280 rows x 5 columns]"
      ]
     },
     "metadata": {},
     "output_type": "display_data"
    },
    {
     "name": "stdout",
     "output_type": "stream",
     "text": [
      "\n",
      "Value Distribution:\n"
     ]
    },
    {
     "data": {
      "image/png": "[encoded data removed]",
      "text/plain": [
       "<Figure size 432x288 with 1 Axes>"
      ]
     },
     "metadata": {
      "needs_background": "light"
     },
     "output_type": "display_data"
    },
    {
     "data": {
      "text/plain": [
       "count    3280.000000\n",
       "mean      109.904899\n",
       "std        38.235305\n",
       "min        22.230000\n",
       "25%        91.125000\n",
       "50%       108.360000\n",
       "75%       133.405000\n",
       "max       298.570000\n",
       "Name: Value, dtype: float64"
      ]
     },
     "metadata": {},
     "output_type": "display_data"
    },
    {
     "name": "stdout",
     "output_type": "stream",
     "text": [
      "\n",
      "Date Distribution:\n"
     ]
    },
    {
     "data": {
      "image/png": "[encoded data removed]",
      "text/plain": [
       "<Figure size 432x288 with 1 Axes>"
      ]
     },
     "metadata": {
      "needs_background": "light"
     },
     "output_type": "display_data"
    },
    {
     "data": {
      "text/plain": [
       "count                    3280\n",
       "unique                    410\n",
       "top       2020-06-14 00:00:00\n",
       "freq                        8\n",
       "first     2020-01-13 00:00:00\n",
       "last      2021-02-27 00:00:00\n",
       "Name: Date, dtype: object"
      ]
     },
     "metadata": {},
     "output_type": "display_data"
    },
    {
     "name": "stdout",
     "output_type": "stream",
     "text": [
      "\n",
      "----------------------------------------------------------------------------------------------------------------\n",
      "----------------------------------------------------------------------------------------------------------------\n",
      "APPLE_MOBILITY_US_DRIVING\n",
      "\n"
     ]
    },
    {
     "data": {
      "text/plain": [
       "{'Sub-Sector': 'APPLE MOBILITY INDEX',\n",
       " 'Super Region': 'GLOBAL DATA',\n",
       " 'Frequency': 'DAILY',\n",
       " 'Country': 'UNITED STATES',\n",
       " 'Unit': 'INDEX',\n",
       " 'Geography Type': 'SUB-REGION',\n",
       " 'Transportation Type': 'DRIVING',\n",
       " 'Source': 'APPLE, INC.'}"
      ]
     },
     "metadata": {},
     "output_type": "display_data"
    },
    {
     "data": {
      "text/html": [
       "<div>\n",
       "<style scoped>\n",
       "    .dataframe tbody tr th:only-of-type {\n",
       "        vertical-align: middle;\n",
       "    }\n",
       "\n",
       "    .dataframe tbody tr th {\n",
       "        vertical-align: top;\n",
       "    }\n",
       "\n",
       "    .dataframe thead th {\n",
       "        text-align: right;\n",
       "    }\n",
       "</style>\n",
       "<table border=\"1\" class=\"dataframe\">\n",
       "  <thead>\n",
       "    <tr style=\"text-align: right;\">\n",
       "      <th></th>\n",
       "      <th>Value</th>\n",
       "      <th>Date</th>\n",
       "      <th>Region</th>\n",
       "    </tr>\n",
       "  </thead>\n",
       "  <tbody>\n",
       "    <tr>\n",
       "      <th>0</th>\n",
       "      <td>136.69</td>\n",
       "      <td>2021-01-24</td>\n",
       "      <td>WYOMING</td>\n",
       "    </tr>\n",
       "    <tr>\n",
       "      <th>1</th>\n",
       "      <td>420.08</td>\n",
       "      <td>2020-08-07</td>\n",
       "      <td>WYOMING</td>\n",
       "    </tr>\n",
       "    <tr>\n",
       "      <th>2</th>\n",
       "      <td>117.82</td>\n",
       "      <td>2021-01-25</td>\n",
       "      <td>WYOMING</td>\n",
       "    </tr>\n",
       "    <tr>\n",
       "      <th>3</th>\n",
       "      <td>379.24</td>\n",
       "      <td>2020-08-06</td>\n",
       "      <td>WYOMING</td>\n",
       "    </tr>\n",
       "    <tr>\n",
       "      <th>4</th>\n",
       "      <td>146.44</td>\n",
       "      <td>2021-01-22</td>\n",
       "      <td>WYOMING</td>\n",
       "    </tr>\n",
       "    <tr>\n",
       "      <th>...</th>\n",
       "      <td>...</td>\n",
       "      <td>...</td>\n",
       "      <td>...</td>\n",
       "    </tr>\n",
       "    <tr>\n",
       "      <th>21725</th>\n",
       "      <td>106.89</td>\n",
       "      <td>2020-08-30</td>\n",
       "      <td>TEXAS</td>\n",
       "    </tr>\n",
       "    <tr>\n",
       "      <th>21726</th>\n",
       "      <td>159.21</td>\n",
       "      <td>2020-09-04</td>\n",
       "      <td>TEXAS</td>\n",
       "    </tr>\n",
       "    <tr>\n",
       "      <th>21727</th>\n",
       "      <td>130.55</td>\n",
       "      <td>2020-09-03</td>\n",
       "      <td>TEXAS</td>\n",
       "    </tr>\n",
       "    <tr>\n",
       "      <th>21728</th>\n",
       "      <td>121.89</td>\n",
       "      <td>2020-09-02</td>\n",
       "      <td>TEXAS</td>\n",
       "    </tr>\n",
       "    <tr>\n",
       "      <th>21729</th>\n",
       "      <td>120.63</td>\n",
       "      <td>2020-09-01</td>\n",
       "      <td>TEXAS</td>\n",
       "    </tr>\n",
       "  </tbody>\n",
       "</table>\n",
       "<p>21730 rows × 3 columns</p>\n",
       "</div>"
      ],
      "text/plain": [
       "        Value       Date   Region\n",
       "0      136.69 2021-01-24  WYOMING\n",
       "1      420.08 2020-08-07  WYOMING\n",
       "2      117.82 2021-01-25  WYOMING\n",
       "3      379.24 2020-08-06  WYOMING\n",
       "4      146.44 2021-01-22  WYOMING\n",
       "...       ...        ...      ...\n",
       "21725  106.89 2020-08-30    TEXAS\n",
       "21726  159.21 2020-09-04    TEXAS\n",
       "21727  130.55 2020-09-03    TEXAS\n",
       "21728  121.89 2020-09-02    TEXAS\n",
       "21729  120.63 2020-09-01    TEXAS\n",
       "\n",
       "[21730 rows x 3 columns]"
      ]
     },
     "metadata": {},
     "output_type": "display_data"
    },
    {
     "name": "stdout",
     "output_type": "stream",
     "text": [
      "\n",
      "Value Distribution:\n"
     ]
    },
    {
     "data": {
      "image/png": "[encoded data removed]",
      "text/plain": [
       "<Figure size 432x288 with 1 Axes>"
      ]
     },
     "metadata": {
      "needs_background": "light"
     },
     "output_type": "display_data"
    },
    {
     "data": {
      "text/plain": [
       "count    21730.000000\n",
       "mean       121.623733\n",
       "std         43.634778\n",
       "min         10.200000\n",
       "25%         97.380000\n",
       "50%        116.710000\n",
       "75%        141.887500\n",
       "max        420.080000\n",
       "Name: Value, dtype: float64"
      ]
     },
     "metadata": {},
     "output_type": "display_data"
    },
    {
     "name": "stdout",
     "output_type": "stream",
     "text": [
      "\n",
      "Date Distribution:\n"
     ]
    },
    {
     "data": {
      "image/png": "[encoded data removed]",
      "text/plain": [
       "<Figure size 432x288 with 1 Axes>"
      ]
     },
     "metadata": {
      "needs_background": "light"
     },
     "output_type": "display_data"
    },
    {
     "data": {
      "text/plain": [
       "count                   21730\n",
       "unique                    410\n",
       "top       2021-02-06 00:00:00\n",
       "freq                       53\n",
       "first     2020-01-13 00:00:00\n",
       "last      2021-02-27 00:00:00\n",
       "Name: Date, dtype: object"
      ]
     },
     "metadata": {},
     "output_type": "display_data"
    },
    {
     "name": "stdout",
     "output_type": "stream",
     "text": [
      "\n",
      "Region Distribution:\n"
     ]
    },
    {
     "data": {
      "image/png": "[encoded data removed]",
      "text/plain": [
       "<Figure size 432x288 with 1 Axes>"
      ]
     },
     "metadata": {
      "needs_background": "light"
     },
     "output_type": "display_data"
    },
    {
     "data": {
      "text/plain": [
       "count     21730\n",
       "unique       53\n",
       "top        OHIO\n",
       "freq        410\n",
       "Name: Region, dtype: object"
      ]
     },
     "metadata": {},
     "output_type": "display_data"
    },
    {
     "name": "stdout",
     "output_type": "stream",
     "text": [
      "\n",
      "----------------------------------------------------------------------------------------------------------------\n",
      "----------------------------------------------------------------------------------------------------------------\n",
      "APPLE_MOBILITY_US_TRANSIT\n",
      "\n"
     ]
    },
    {
     "data": {
      "text/plain": [
       "{'Sub-Sector': 'APPLE MOBILITY INDEX',\n",
       " 'Super Region': 'GLOBAL DATA',\n",
       " 'Frequency': 'DAILY',\n",
       " 'Country': 'UNITED STATES',\n",
       " 'Unit': 'INDEX',\n",
       " 'Geography Type': 'SUB-REGION',\n",
       " 'Transportation Type': 'TRANSIT',\n",
       " 'Source': 'APPLE, INC.'}"
      ]
     },
     "metadata": {},
     "output_type": "display_data"
    },
    {
     "data": {
      "text/html": [
       "<div>\n",
       "<style scoped>\n",
       "    .dataframe tbody tr th:only-of-type {\n",
       "        vertical-align: middle;\n",
       "    }\n",
       "\n",
       "    .dataframe tbody tr th {\n",
       "        vertical-align: top;\n",
       "    }\n",
       "\n",
       "    .dataframe thead th {\n",
       "        text-align: right;\n",
       "    }\n",
       "</style>\n",
       "<table border=\"1\" class=\"dataframe\">\n",
       "  <thead>\n",
       "    <tr style=\"text-align: right;\">\n",
       "      <th></th>\n",
       "      <th>Value</th>\n",
       "      <th>Date</th>\n",
       "      <th>Region</th>\n",
       "    </tr>\n",
       "  </thead>\n",
       "  <tbody>\n",
       "    <tr>\n",
       "      <th>0</th>\n",
       "      <td>28.93</td>\n",
       "      <td>2021-01-24</td>\n",
       "      <td>WASHINGTON</td>\n",
       "    </tr>\n",
       "    <tr>\n",
       "      <th>1</th>\n",
       "      <td>43.49</td>\n",
       "      <td>2020-08-07</td>\n",
       "      <td>WASHINGTON</td>\n",
       "    </tr>\n",
       "    <tr>\n",
       "      <th>2</th>\n",
       "      <td>34.90</td>\n",
       "      <td>2021-01-25</td>\n",
       "      <td>WASHINGTON</td>\n",
       "    </tr>\n",
       "    <tr>\n",
       "      <th>3</th>\n",
       "      <td>41.46</td>\n",
       "      <td>2020-08-06</td>\n",
       "      <td>WASHINGTON</td>\n",
       "    </tr>\n",
       "    <tr>\n",
       "      <th>4</th>\n",
       "      <td>38.36</td>\n",
       "      <td>2021-01-22</td>\n",
       "      <td>WASHINGTON</td>\n",
       "    </tr>\n",
       "    <tr>\n",
       "      <th>...</th>\n",
       "      <td>...</td>\n",
       "      <td>...</td>\n",
       "      <td>...</td>\n",
       "    </tr>\n",
       "    <tr>\n",
       "      <th>17711</th>\n",
       "      <td>89.88</td>\n",
       "      <td>2020-08-30</td>\n",
       "      <td>OKLAHOMA</td>\n",
       "    </tr>\n",
       "    <tr>\n",
       "      <th>17712</th>\n",
       "      <td>127.00</td>\n",
       "      <td>2020-09-04</td>\n",
       "      <td>OKLAHOMA</td>\n",
       "    </tr>\n",
       "    <tr>\n",
       "      <th>17713</th>\n",
       "      <td>108.24</td>\n",
       "      <td>2020-09-03</td>\n",
       "      <td>OKLAHOMA</td>\n",
       "    </tr>\n",
       "    <tr>\n",
       "      <th>17714</th>\n",
       "      <td>93.27</td>\n",
       "      <td>2020-09-02</td>\n",
       "      <td>OKLAHOMA</td>\n",
       "    </tr>\n",
       "    <tr>\n",
       "      <th>17715</th>\n",
       "      <td>93.77</td>\n",
       "      <td>2020-09-01</td>\n",
       "      <td>OKLAHOMA</td>\n",
       "    </tr>\n",
       "  </tbody>\n",
       "</table>\n",
       "<p>17716 rows × 3 columns</p>\n",
       "</div>"
      ],
      "text/plain": [
       "        Value       Date      Region\n",
       "0       28.93 2021-01-24  WASHINGTON\n",
       "1       43.49 2020-08-07  WASHINGTON\n",
       "2       34.90 2021-01-25  WASHINGTON\n",
       "3       41.46 2020-08-06  WASHINGTON\n",
       "4       38.36 2021-01-22  WASHINGTON\n",
       "...       ...        ...         ...\n",
       "17711   89.88 2020-08-30    OKLAHOMA\n",
       "17712  127.00 2020-09-04    OKLAHOMA\n",
       "17713  108.24 2020-09-03    OKLAHOMA\n",
       "17714   93.27 2020-09-02    OKLAHOMA\n",
       "17715   93.77 2020-09-01    OKLAHOMA\n",
       "\n",
       "[17716 rows x 3 columns]"
      ]
     },
     "metadata": {},
     "output_type": "display_data"
    },
    {
     "name": "stdout",
     "output_type": "stream",
     "text": [
      "\n",
      "Value Distribution:\n"
     ]
    },
    {
     "data": {
      "image/png": "[encoded data removed]",
      "text/plain": [
       "<Figure size 432x288 with 1 Axes>"
      ]
     },
     "metadata": {
      "needs_background": "light"
     },
     "output_type": "display_data"
    },
    {
     "data": {
      "text/plain": [
       "count    17716.000000\n",
       "mean        69.414608\n",
       "std         27.373271\n",
       "min          8.100000\n",
       "25%         50.130000\n",
       "50%         64.830000\n",
       "75%         87.862500\n",
       "max        181.040000\n",
       "Name: Value, dtype: float64"
      ]
     },
     "metadata": {},
     "output_type": "display_data"
    },
    {
     "name": "stdout",
     "output_type": "stream",
     "text": [
      "\n",
      "Date Distribution:\n"
     ]
    },
    {
     "data": {
      "image/png": "[encoded data removed]",
      "text/plain": [
       "<Figure size 432x288 with 1 Axes>"
      ]
     },
     "metadata": {
      "needs_background": "light"
     },
     "output_type": "display_data"
    },
    {
     "data": {
      "text/plain": [
       "count                   17716\n",
       "unique                    412\n",
       "top       2021-02-06 00:00:00\n",
       "freq                       43\n",
       "first     2020-01-13 00:00:00\n",
       "last      2021-02-27 00:00:00\n",
       "Name: Date, dtype: object"
      ]
     },
     "metadata": {},
     "output_type": "display_data"
    },
    {
     "name": "stdout",
     "output_type": "stream",
     "text": [
      "\n",
      "Region Distribution:\n"
     ]
    },
    {
     "data": {
      "image/png": "[encoded data removed]",
      "text/plain": [
       "<Figure size 432x288 with 1 Axes>"
      ]
     },
     "metadata": {
      "needs_background": "light"
     },
     "output_type": "display_data"
    },
    {
     "data": {
      "text/plain": [
       "count          17716\n",
       "unique            43\n",
       "top       CALIFORNIA\n",
       "freq             412\n",
       "Name: Region, dtype: object"
      ]
     },
     "metadata": {},
     "output_type": "display_data"
    },
    {
     "name": "stdout",
     "output_type": "stream",
     "text": [
      "\n",
      "----------------------------------------------------------------------------------------------------------------\n",
      "----------------------------------------------------------------------------------------------------------------\n",
      "APPLE_MOBILITY_US_WALKING\n",
      "\n"
     ]
    },
    {
     "data": {
      "text/plain": [
       "{'Sub-Sector': 'APPLE MOBILITY INDEX',\n",
       " 'Super Region': 'GLOBAL DATA',\n",
       " 'Frequency': 'DAILY',\n",
       " 'Country': 'UNITED STATES',\n",
       " 'Unit': 'INDEX',\n",
       " 'Geography Type': 'SUB-REGION',\n",
       " 'Transportation Type': 'WALKING',\n",
       " 'Source': 'APPLE, INC.'}"
      ]
     },
     "metadata": {},
     "output_type": "display_data"
    },
    {
     "data": {
      "text/html": [
       "<div>\n",
       "<style scoped>\n",
       "    .dataframe tbody tr th:only-of-type {\n",
       "        vertical-align: middle;\n",
       "    }\n",
       "\n",
       "    .dataframe tbody tr th {\n",
       "        vertical-align: top;\n",
       "    }\n",
       "\n",
       "    .dataframe thead th {\n",
       "        text-align: right;\n",
       "    }\n",
       "</style>\n",
       "<table border=\"1\" class=\"dataframe\">\n",
       "  <thead>\n",
       "    <tr style=\"text-align: right;\">\n",
       "      <th></th>\n",
       "      <th>Value</th>\n",
       "      <th>Date</th>\n",
       "      <th>Region</th>\n",
       "    </tr>\n",
       "  </thead>\n",
       "  <tbody>\n",
       "    <tr>\n",
       "      <th>0</th>\n",
       "      <td>82.56</td>\n",
       "      <td>2021-01-24</td>\n",
       "      <td>ILLINOIS</td>\n",
       "    </tr>\n",
       "    <tr>\n",
       "      <th>1</th>\n",
       "      <td>185.41</td>\n",
       "      <td>2020-08-07</td>\n",
       "      <td>ILLINOIS</td>\n",
       "    </tr>\n",
       "    <tr>\n",
       "      <th>2</th>\n",
       "      <td>78.86</td>\n",
       "      <td>2021-01-25</td>\n",
       "      <td>ILLINOIS</td>\n",
       "    </tr>\n",
       "    <tr>\n",
       "      <th>3</th>\n",
       "      <td>152.63</td>\n",
       "      <td>2020-08-06</td>\n",
       "      <td>ILLINOIS</td>\n",
       "    </tr>\n",
       "    <tr>\n",
       "      <th>4</th>\n",
       "      <td>108.20</td>\n",
       "      <td>2021-01-22</td>\n",
       "      <td>ILLINOIS</td>\n",
       "    </tr>\n",
       "    <tr>\n",
       "      <th>...</th>\n",
       "      <td>...</td>\n",
       "      <td>...</td>\n",
       "      <td>...</td>\n",
       "    </tr>\n",
       "    <tr>\n",
       "      <th>21007</th>\n",
       "      <td>211.33</td>\n",
       "      <td>2020-08-30</td>\n",
       "      <td>DELAWARE</td>\n",
       "    </tr>\n",
       "    <tr>\n",
       "      <th>21008</th>\n",
       "      <td>277.22</td>\n",
       "      <td>2020-09-04</td>\n",
       "      <td>DELAWARE</td>\n",
       "    </tr>\n",
       "    <tr>\n",
       "      <th>21009</th>\n",
       "      <td>214.72</td>\n",
       "      <td>2020-09-03</td>\n",
       "      <td>DELAWARE</td>\n",
       "    </tr>\n",
       "    <tr>\n",
       "      <th>21010</th>\n",
       "      <td>215.89</td>\n",
       "      <td>2020-09-02</td>\n",
       "      <td>DELAWARE</td>\n",
       "    </tr>\n",
       "    <tr>\n",
       "      <th>21011</th>\n",
       "      <td>222.63</td>\n",
       "      <td>2020-09-01</td>\n",
       "      <td>DELAWARE</td>\n",
       "    </tr>\n",
       "  </tbody>\n",
       "</table>\n",
       "<p>21012 rows × 3 columns</p>\n",
       "</div>"
      ],
      "text/plain": [
       "        Value       Date    Region\n",
       "0       82.56 2021-01-24  ILLINOIS\n",
       "1      185.41 2020-08-07  ILLINOIS\n",
       "2       78.86 2021-01-25  ILLINOIS\n",
       "3      152.63 2020-08-06  ILLINOIS\n",
       "4      108.20 2021-01-22  ILLINOIS\n",
       "...       ...        ...       ...\n",
       "21007  211.33 2020-08-30  DELAWARE\n",
       "21008  277.22 2020-09-04  DELAWARE\n",
       "21009  214.72 2020-09-03  DELAWARE\n",
       "21010  215.89 2020-09-02  DELAWARE\n",
       "21011  222.63 2020-09-01  DELAWARE\n",
       "\n",
       "[21012 rows x 3 columns]"
      ]
     },
     "metadata": {},
     "output_type": "display_data"
    },
    {
     "name": "stdout",
     "output_type": "stream",
     "text": [
      "\n",
      "Value Distribution:\n"
     ]
    },
    {
     "data": {
      "image/png": "[encoded data removed]",
      "text/plain": [
       "<Figure size 432x288 with 1 Axes>"
      ]
     },
     "metadata": {
      "needs_background": "light"
     },
     "output_type": "display_data"
    },
    {
     "data": {
      "text/plain": [
       "count    21012.000000\n",
       "mean       128.786930\n",
       "std         54.758159\n",
       "min         10.310000\n",
       "25%         94.010000\n",
       "50%        123.315000\n",
       "75%        157.270000\n",
       "max        432.810000\n",
       "Name: Value, dtype: float64"
      ]
     },
     "metadata": {},
     "output_type": "display_data"
    },
    {
     "name": "stdout",
     "output_type": "stream",
     "text": [
      "\n",
      "Date Distribution:\n"
     ]
    },
    {
     "data": {
      "image/png": "[encoded data removed]",
      "text/plain": [
       "<Figure size 432x288 with 1 Axes>"
      ]
     },
     "metadata": {
      "needs_background": "light"
     },
     "output_type": "display_data"
    },
    {
     "data": {
      "text/plain": [
       "count                   21012\n",
       "unique                    412\n",
       "top       2021-02-06 00:00:00\n",
       "freq                       51\n",
       "first     2020-01-13 00:00:00\n",
       "last      2021-02-27 00:00:00\n",
       "Name: Date, dtype: object"
      ]
     },
     "metadata": {},
     "output_type": "display_data"
    },
    {
     "name": "stdout",
     "output_type": "stream",
     "text": [
      "\n",
      "Region Distribution:\n"
     ]
    },
    {
     "data": {
      "image/png": "[encoded data removed]",
      "text/plain": [
       "<Figure size 432x288 with 1 Axes>"
      ]
     },
     "metadata": {
      "needs_background": "light"
     },
     "output_type": "display_data"
    },
    {
     "data": {
      "text/plain": [
       "count     21012\n",
       "unique       51\n",
       "top        OHIO\n",
       "freq        412\n",
       "Name: Region, dtype: object"
      ]
     },
     "metadata": {},
     "output_type": "display_data"
    }
   ],
   "source": [
    "# Identify the dataset\n",
    "folder_name = 'Transportation'\n",
    "# Explore all CSV data in folder, plot distributions of values and dates\n",
    "quick_explore(folder = folder_name)"
   ]
  },
  {
   "cell_type": "code",
   "execution_count": null,
   "metadata": {},
   "outputs": [],
   "source": []
  }
 ],
 "metadata": {
  "kernelspec": {
   "display_name": "Python 3",
   "language": "python",
   "name": "python3"
  },
  "language_info": {
   "codemirror_mode": {
    "name": "ipython",
    "version": 3
   },
   "file_extension": ".py",
   "mimetype": "text/x-python",
   "name": "python",
   "nbconvert_exporter": "python",
   "pygments_lexer": "ipython3",
   "version": "3.8.3"
  }
 },
 "nbformat": 4,
 "nbformat_minor": 4
}
