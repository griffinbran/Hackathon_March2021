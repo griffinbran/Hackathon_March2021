{
 "cells": [
  {
   "cell_type": "markdown",
   "metadata": {},
   "source": [
    "<h1 style=\"text-align: center;\"> Model Pre-Processing </p>"
   ]
  },
  {
   "cell_type": "markdown",
   "metadata": {},
   "source": [
    "## Notebook Description\n",
    "\n",
    "In this notebook, time-series data are merged for SARIMAX modeling of oil stock performance as part of the requirements of the RMDS 2021 Data Science Competition."
   ]
  },
  {
   "cell_type": "markdown",
   "metadata": {},
   "source": [
    "<a id='Table-of-Contents'></a>\n",
    "\n",
    "\n",
    "##  Table of contents\n",
    "1. [Required Libraries](#Required-Libraries)\n",
    "2. [Load Data](#Load-Data)\n",
    "3. [Format Column Names](#Format-Column-Names)\n",
    "4. [Set Timestamp Range & Frequency](#Set-Timestamp-Range-&-Frequency)\n",
    "5. [Merge Data](#Merge-DataFrames)\n",
    "6. [Manage Missing Data](#Missing-Data)\n",
    "7. [Save Data to CSV](#Save-Data)"
   ]
  },
  {
   "cell_type": "markdown",
   "metadata": {},
   "source": [
    "## Required Libraries\n",
    "\n",
    "This notebook uses several Python libraries such as:"
   ]
  },
  {
   "cell_type": "code",
   "execution_count": 22,
   "metadata": {},
   "outputs": [],
   "source": [
    "# Load required packages \n",
    "import datetime\n",
    "from datetime import timedelta\n",
    "import numpy as np\n",
    "import pandas as pd\n",
    "import warnings\n",
    "warnings.filterwarnings(\"ignore\")"
   ]
  },
  {
   "cell_type": "markdown",
   "metadata": {},
   "source": [
    "<a id='Load-Data'></a>\n",
    "\n",
    "---\n",
    "## Load Data\n",
    "\n",
    "[[ go back to the top ]](#Table-of-Contents)"
   ]
  },
  {
   "cell_type": "code",
   "execution_count": 23,
   "metadata": {},
   "outputs": [],
   "source": [
    "# Load Data Function\n",
    "def LOAD_DATA(filepath, filename):\n",
    "    # Read CSV files\n",
    "    if filename.endswith('.csv'):\n",
    "        new_df = pd.read_csv(filepath+filename)\n",
    "\n",
    "    # Read Excel files\n",
    "    elif filename.endswith('.xlsx'):\n",
    "        new_df = pd.read_excel(filepath+filename)\n",
    "    print(type(new_df.index))\n",
    "    if type(new_df.index) != pd.core.indexes.datetimes.DatetimeIndex:\n",
    "        for col in new_df.columns:\n",
    "            if col.lower().find('date') != -1:\n",
    "                print(f\"TIMESTAMP FOUND! '{col}'\")\n",
    "                print()\n",
    "                new_df['date'] = pd.to_datetime(new_df[col]) # format = '%Y/%m/%d'\n",
    "                new_df.set_index('date', inplace = True)\n",
    "                # If datetime col was already == 'date', no need to drop col after set_index, otherwise...\n",
    "                if col != 'date':\n",
    "                    new_df.drop(columns = col, inplace = True)\n",
    "                \n",
    "    # Try to identify the date column\n",
    "    elif type(new_df.index) == pd.core.indexes.datetimes.DatetimeIndex:\n",
    "        print('Index already in datetime')\n",
    "        \n",
    "    display(new_df.info())\n",
    "    return new_df"
   ]
  },
  {
   "cell_type": "code",
   "execution_count": 24,
   "metadata": {},
   "outputs": [
    {
     "name": "stdout",
     "output_type": "stream",
     "text": [
      "<class 'pandas.core.indexes.range.RangeIndex'>\n",
      "TIMESTAMP FOUND! 'DateTime'\n",
      "\n",
      "<class 'pandas.core.frame.DataFrame'>\n",
      "DatetimeIndex: 395 entries, 2000-04-17 to 2021-02-27\n",
      "Data columns (total 1 columns):\n",
      " #   Column                Non-Null Count  Dtype  \n",
      "---  ------                --------------  -----  \n",
      " 0   Daily News Sentiment  395 non-null    float64\n",
      "dtypes: float64(1)\n",
      "memory usage: 6.2 KB\n"
     ]
    },
    {
     "data": {
      "text/plain": [
       "None"
      ]
     },
     "metadata": {},
     "output_type": "display_data"
    }
   ],
   "source": [
    "# Load International Sentiment Data\n",
    "\n",
    "fpath = '../../data/News_AI_Sentiments/'\n",
    "fname = 'daily-news-sentiment-international.csv'\n",
    "\n",
    "sentiment_int = LOAD_DATA(filepath = fpath, filename = fname)\n",
    "#sentiment_int"
   ]
  },
  {
   "cell_type": "code",
   "execution_count": 25,
   "metadata": {},
   "outputs": [
    {
     "name": "stdout",
     "output_type": "stream",
     "text": [
      "<class 'pandas.core.indexes.range.RangeIndex'>\n",
      "TIMESTAMP FOUND! 'DateTime'\n",
      "\n",
      "<class 'pandas.core.frame.DataFrame'>\n",
      "DatetimeIndex: 396 entries, 2013-07-26 to 2021-02-27\n",
      "Data columns (total 1 columns):\n",
      " #   Column                Non-Null Count  Dtype  \n",
      "---  ------                --------------  -----  \n",
      " 0   Daily News Sentiment  396 non-null    float64\n",
      "dtypes: float64(1)\n",
      "memory usage: 6.2 KB\n"
     ]
    },
    {
     "data": {
      "text/plain": [
       "None"
      ]
     },
     "metadata": {},
     "output_type": "display_data"
    }
   ],
   "source": [
    "# Load North American Sentiment Data\n",
    "\n",
    "fpath = '../../data/News_AI_Sentiments/'\n",
    "fname = 'daily-news-sentiment-NA.csv'\n",
    "\n",
    "sentiment_na = LOAD_DATA(filepath = fpath, filename = fname)\n",
    "#sentiment_na"
   ]
  },
  {
   "cell_type": "code",
   "execution_count": 26,
   "metadata": {},
   "outputs": [
    {
     "name": "stdout",
     "output_type": "stream",
     "text": [
      "<class 'pandas.core.indexes.range.RangeIndex'>\n",
      "TIMESTAMP FOUND! 'Date'\n",
      "\n",
      "<class 'pandas.core.frame.DataFrame'>\n",
      "DatetimeIndex: 985 entries, 2017-03-21 to 2021-02-25\n",
      "Data columns (total 10 columns):\n",
      " #   Column                                   Non-Null Count  Dtype  \n",
      "---  ------                                   --------------  -----  \n",
      " 0   Value_PHILLIPS 66                        985 non-null    float64\n",
      " 1   Value_BP P.L.C.                          985 non-null    float64\n",
      " 2   Value_VALERO ENERGY CORPORATION          985 non-null    float64\n",
      " 3   Value_CHEVRON CORPORATION                985 non-null    float64\n",
      " 4   Value_OCCIDENTAL PETROLEUM CORPORATION   985 non-null    float64\n",
      " 5   Value_MARATHON OIL CORPORATION           985 non-null    float64\n",
      " 6   Value_PIONEER NATURAL RESOURCES COMPANY  985 non-null    float64\n",
      " 7   Value_CONOCOPHILLIPS                     985 non-null    float64\n",
      " 8   Value_EXXON MOBIL CORPORATION            985 non-null    float64\n",
      " 9   Value_MARATHON PETROLEUM CORPORATION     985 non-null    float64\n",
      "dtypes: float64(10)\n",
      "memory usage: 84.6 KB\n"
     ]
    },
    {
     "data": {
      "text/plain": [
       "None"
      ]
     },
     "metadata": {},
     "output_type": "display_data"
    }
   ],
   "source": [
    "# Load Stock-Closing-Price by Company Data\n",
    "fpath = '../../'\n",
    "fname = 'closing_price_by_company.csv'\n",
    "closing_price = LOAD_DATA(filepath = fpath, filename = fname)\n",
    "#closing_price"
   ]
  },
  {
   "cell_type": "code",
   "execution_count": 27,
   "metadata": {},
   "outputs": [
    {
     "name": "stdout",
     "output_type": "stream",
     "text": [
      "<class 'pandas.core.indexes.range.RangeIndex'>\n",
      "TIMESTAMP FOUND! 'date'\n",
      "\n",
      "<class 'pandas.core.frame.DataFrame'>\n",
      "DatetimeIndex: 382 entries, 2020-02-15 to 2021-03-02\n",
      "Data columns (total 6 columns):\n",
      " #   Column                 Non-Null Count  Dtype  \n",
      "---  ------                 --------------  -----  \n",
      " 0   workplaces             382 non-null    float64\n",
      " 1   retail_and_recreation  382 non-null    float64\n",
      " 2   grocery_and_pharmacy   382 non-null    float64\n",
      " 3   residential            382 non-null    float64\n",
      " 4   transit_stations       382 non-null    float64\n",
      " 5   parks                  382 non-null    float64\n",
      "dtypes: float64(6)\n",
      "memory usage: 20.9 KB\n"
     ]
    },
    {
     "data": {
      "text/plain": [
       "None"
      ]
     },
     "metadata": {},
     "output_type": "display_data"
    }
   ],
   "source": [
    "# Load Google Mobility Trends grouped by Indicator\n",
    "fpath = '../../data/Transportation/google/'\n",
    "fname = 'baseline_pct_change.csv'\n",
    "google_mobility = LOAD_DATA(filepath = fpath, filename = fname)\n",
    "#google_mobility"
   ]
  },
  {
   "cell_type": "code",
   "execution_count": 28,
   "metadata": {},
   "outputs": [
    {
     "name": "stdout",
     "output_type": "stream",
     "text": [
      "<class 'pandas.core.indexes.range.RangeIndex'>\n",
      "TIMESTAMP FOUND! 'date'\n",
      "\n",
      "<class 'pandas.core.frame.DataFrame'>\n",
      "DatetimeIndex: 1000 entries, 2017-03-24 to 2021-02-26\n",
      "Data columns (total 5 columns):\n",
      " #   Column                            Non-Null Count  Dtype  \n",
      "---  ------                            --------------  -----  \n",
      " 0   dow_jones_transportation_average  1000 non-null   float64\n",
      " 1   dow_jones_composite_average       1000 non-null   float64\n",
      " 2   s&p_500                           1000 non-null   float64\n",
      " 3   dow_jones_industrial_average      1000 non-null   float64\n",
      " 4   dow_jones_utility_average         1000 non-null   float64\n",
      "dtypes: float64(5)\n",
      "memory usage: 46.9 KB\n"
     ]
    },
    {
     "data": {
      "text/plain": [
       "None"
      ]
     },
     "metadata": {},
     "output_type": "display_data"
    }
   ],
   "source": [
    "# Load Dow Jones Indices grouped by Indicator\n",
    "fpath = '../../data/Financial_Market/'\n",
    "fname = 'dow_jones.csv'\n",
    "dow_jones = LOAD_DATA(filepath = fpath, filename = fname)\n",
    "#dow_jones"
   ]
  },
  {
   "cell_type": "markdown",
   "metadata": {},
   "source": [
    "<a id='Format-Column-Names'></a>\n",
    "\n",
    "---\n",
    "## Format Column Names\n",
    "\n",
    "[[ go back to the top ]](#Table-of-Contents)"
   ]
  },
  {
   "cell_type": "code",
   "execution_count": 29,
   "metadata": {},
   "outputs": [],
   "source": [
    "# Function to enforce snake case (no spaces, no caps, no DOTs)\n",
    "def FORMAT_TITLES(dataframe, start = 0, end = 0):\n",
    "    df = dataframe\n",
    "    # Remove extra characters in name\n",
    "    for index, label in enumerate(df.columns):\n",
    "        # IF not specified, don't remove chars from end\n",
    "        if end == 0:\n",
    "            name = label[start:]\n",
    "        # Remove 'end'-number of chars from end-of-string\n",
    "        elif end != 0:\n",
    "            name = label[start:end]\n",
    "        # Format column names to be in 'snake case'\n",
    "        formatted_name = name.strip().lower().replace('.', '').replace(\" \", \"_\")\n",
    "        df.rename(columns = {label:formatted_name}, inplace = True)\n",
    "    return df"
   ]
  },
  {
   "cell_type": "code",
   "execution_count": 30,
   "metadata": {},
   "outputs": [],
   "source": [
    "sentiment_int = FORMAT_TITLES(sentiment_int)\n",
    "sentiment_int.rename(columns = {'daily_news_sentiment':'int_news_sentiment'}, inplace = True)\n",
    "#sentiment_int"
   ]
  },
  {
   "cell_type": "code",
   "execution_count": 31,
   "metadata": {},
   "outputs": [],
   "source": [
    "sentiment_na = FORMAT_TITLES(sentiment_na)\n",
    "sentiment_na.rename(columns = {'daily_news_sentiment':'na_news_sentiment'}, inplace = True)\n",
    "#sentiment_na"
   ]
  },
  {
   "cell_type": "code",
   "execution_count": 32,
   "metadata": {},
   "outputs": [],
   "source": [
    "closing_price = FORMAT_TITLES(closing_price, start = 6)\n",
    "#closing_price"
   ]
  },
  {
   "cell_type": "code",
   "execution_count": 33,
   "metadata": {},
   "outputs": [],
   "source": [
    "google_mobility = FORMAT_TITLES(google_mobility)\n",
    "#google_mobility"
   ]
  },
  {
   "cell_type": "code",
   "execution_count": 34,
   "metadata": {},
   "outputs": [],
   "source": [
    "dow_jones = FORMAT_TITLES(dow_jones)\n",
    "#dow_jones"
   ]
  },
  {
   "cell_type": "markdown",
   "metadata": {},
   "source": [
    "---\n",
    "## Set Timestamp Range & Frequency\n",
    "\n",
    "[[ go back to the top ]](#Table-of-Contents)"
   ]
  },
  {
   "cell_type": "code",
   "execution_count": 35,
   "metadata": {},
   "outputs": [
    {
     "name": "stdout",
     "output_type": "stream",
     "text": [
      "closing_price\t df_0\t df_1\t df_i\t df_na\t dow_jones\t google_mobility\t sentiment_int\t sentiment_na\t \n",
      "\n"
     ]
    }
   ],
   "source": [
    "# Identify all DataFrames in this Notebook\n",
    "%who DataFrame"
   ]
  },
  {
   "cell_type": "code",
   "execution_count": 36,
   "metadata": {},
   "outputs": [],
   "source": [
    "df_listed = [closing_price, dow_jones, google_mobility, sentiment_int, sentiment_na]"
   ]
  },
  {
   "cell_type": "code",
   "execution_count": 37,
   "metadata": {},
   "outputs": [
    {
     "data": {
      "text/plain": [
       "Timestamp('2020-02-15 00:00:00')"
      ]
     },
     "execution_count": 37,
     "metadata": {},
     "output_type": "execute_result"
    }
   ],
   "source": [
    "# Store the latest occurring minimum Timestamp from all the DF's\n",
    "start = max([df_listed[idx].index[0] for idx in range(len(df_listed))])\n",
    "start"
   ]
  },
  {
   "cell_type": "markdown",
   "metadata": {},
   "source": [
    "<a id='Merge-Data'></a>\n",
    "\n",
    "---\n",
    "## Merge DataFrames\n",
    "\n",
    "[[ go back to the top ]](#Table-of-Contents)"
   ]
  },
  {
   "cell_type": "code",
   "execution_count": 38,
   "metadata": {},
   "outputs": [
    {
     "name": "stdout",
     "output_type": "stream",
     "text": [
      "<class 'pandas.core.frame.DataFrame'>\n",
      "DatetimeIndex: 272 entries, 2020-02-17 to 2021-03-02\n",
      "Freq: B\n",
      "Data columns (total 23 columns):\n",
      " #   Column                             Non-Null Count  Dtype  \n",
      "---  ------                             --------------  -----  \n",
      " 0   phillips_66                        244 non-null    float64\n",
      " 1   bp_plc                             244 non-null    float64\n",
      " 2   valero_energy_corporation          244 non-null    float64\n",
      " 3   chevron_corporation                244 non-null    float64\n",
      " 4   occidental_petroleum_corporation   244 non-null    float64\n",
      " 5   marathon_oil_corporation           244 non-null    float64\n",
      " 6   pioneer_natural_resources_company  244 non-null    float64\n",
      " 7   conocophillips                     244 non-null    float64\n",
      " 8   exxon_mobil_corporation            244 non-null    float64\n",
      " 9   marathon_petroleum_corporation     244 non-null    float64\n",
      " 10  dow_jones_transportation_average   260 non-null    float64\n",
      " 11  dow_jones_composite_average        260 non-null    float64\n",
      " 12  s&p_500                            260 non-null    float64\n",
      " 13  dow_jones_industrial_average       260 non-null    float64\n",
      " 14  dow_jones_utility_average          260 non-null    float64\n",
      " 15  workplaces                         272 non-null    float64\n",
      " 16  retail_and_recreation              272 non-null    float64\n",
      " 17  grocery_and_pharmacy               272 non-null    float64\n",
      " 18  residential                        272 non-null    float64\n",
      " 19  transit_stations                   272 non-null    float64\n",
      " 20  parks                              272 non-null    float64\n",
      " 21  int_news_sentiment                 108 non-null    float64\n",
      " 22  na_news_sentiment                  58 non-null     float64\n",
      "dtypes: float64(23)\n",
      "memory usage: 51.0 KB\n"
     ]
    },
    {
     "data": {
      "text/plain": [
       "None"
      ]
     },
     "metadata": {},
     "output_type": "display_data"
    }
   ],
   "source": [
    "df_listed = [closing_price, dow_jones, google_mobility, sentiment_int, sentiment_na]\n",
    "count = 0\n",
    "for df_i in df_listed:\n",
    "    # For the first DF, all the others will concat to df_0\n",
    "    if count == 0:\n",
    "        # Drop weekend data\n",
    "        df_0 = df_i[df_i.index.dayofweek < 5]\n",
    "        # Drop dates before Google Mobililty data begins\n",
    "        df_0 = df_0.loc[start:].copy()\n",
    "    else:\n",
    "        # Drop weekend data\n",
    "        df_1 = df_i[df_i.index.dayofweek < 5]\n",
    "        # Concat all the others\n",
    "        df_0 = pd.concat([df_0, df_1.loc[start:]], axis =1)\n",
    "    count += 1\n",
    "display(df_0.info())"
   ]
  },
  {
   "cell_type": "markdown",
   "metadata": {},
   "source": [
    "<a id='Missing-Data'></a>\n",
    "\n",
    "---\n",
    "## Manage Missing Data\n",
    "\n",
    "[[ go back to the top ]](#Table-of-Contents)"
   ]
  },
  {
   "cell_type": "code",
   "execution_count": 39,
   "metadata": {},
   "outputs": [
    {
     "data": {
      "text/html": [
       "<div>\n",
       "<style scoped>\n",
       "    .dataframe tbody tr th:only-of-type {\n",
       "        vertical-align: middle;\n",
       "    }\n",
       "\n",
       "    .dataframe tbody tr th {\n",
       "        vertical-align: top;\n",
       "    }\n",
       "\n",
       "    .dataframe thead th {\n",
       "        text-align: right;\n",
       "    }\n",
       "</style>\n",
       "<table border=\"1\" class=\"dataframe\">\n",
       "  <thead>\n",
       "    <tr style=\"text-align: right;\">\n",
       "      <th></th>\n",
       "      <th>phillips_66</th>\n",
       "      <th>bp_plc</th>\n",
       "      <th>valero_energy_corporation</th>\n",
       "      <th>chevron_corporation</th>\n",
       "      <th>occidental_petroleum_corporation</th>\n",
       "      <th>marathon_oil_corporation</th>\n",
       "      <th>pioneer_natural_resources_company</th>\n",
       "      <th>conocophillips</th>\n",
       "      <th>exxon_mobil_corporation</th>\n",
       "      <th>marathon_petroleum_corporation</th>\n",
       "      <th>...</th>\n",
       "      <th>dow_jones_industrial_average</th>\n",
       "      <th>dow_jones_utility_average</th>\n",
       "      <th>workplaces</th>\n",
       "      <th>retail_and_recreation</th>\n",
       "      <th>grocery_and_pharmacy</th>\n",
       "      <th>residential</th>\n",
       "      <th>transit_stations</th>\n",
       "      <th>parks</th>\n",
       "      <th>int_news_sentiment</th>\n",
       "      <th>na_news_sentiment</th>\n",
       "    </tr>\n",
       "    <tr>\n",
       "      <th>date</th>\n",
       "      <th></th>\n",
       "      <th></th>\n",
       "      <th></th>\n",
       "      <th></th>\n",
       "      <th></th>\n",
       "      <th></th>\n",
       "      <th></th>\n",
       "      <th></th>\n",
       "      <th></th>\n",
       "      <th></th>\n",
       "      <th></th>\n",
       "      <th></th>\n",
       "      <th></th>\n",
       "      <th></th>\n",
       "      <th></th>\n",
       "      <th></th>\n",
       "      <th></th>\n",
       "      <th></th>\n",
       "      <th></th>\n",
       "      <th></th>\n",
       "      <th></th>\n",
       "    </tr>\n",
       "  </thead>\n",
       "  <tbody>\n",
       "    <tr>\n",
       "      <th>2020-02-18</th>\n",
       "      <td>88.00</td>\n",
       "      <td>36.09</td>\n",
       "      <td>82.52</td>\n",
       "      <td>110.24</td>\n",
       "      <td>41.56</td>\n",
       "      <td>10.30</td>\n",
       "      <td>135.56</td>\n",
       "      <td>58.30</td>\n",
       "      <td>59.88</td>\n",
       "      <td>56.47</td>\n",
       "      <td>...</td>\n",
       "      <td>29232.19</td>\n",
       "      <td>960.89</td>\n",
       "      <td>-0.006305</td>\n",
       "      <td>-0.211659</td>\n",
       "      <td>-1.377153</td>\n",
       "      <td>1.345745</td>\n",
       "      <td>2.440042</td>\n",
       "      <td>5.466077</td>\n",
       "      <td>0.00</td>\n",
       "      <td>0.00</td>\n",
       "    </tr>\n",
       "    <tr>\n",
       "      <th>2020-02-19</th>\n",
       "      <td>88.36</td>\n",
       "      <td>36.25</td>\n",
       "      <td>83.23</td>\n",
       "      <td>110.74</td>\n",
       "      <td>42.51</td>\n",
       "      <td>10.47</td>\n",
       "      <td>141.17</td>\n",
       "      <td>59.26</td>\n",
       "      <td>60.34</td>\n",
       "      <td>57.69</td>\n",
       "      <td>...</td>\n",
       "      <td>29348.03</td>\n",
       "      <td>950.01</td>\n",
       "      <td>1.001656</td>\n",
       "      <td>2.222899</td>\n",
       "      <td>0.639556</td>\n",
       "      <td>0.345455</td>\n",
       "      <td>2.634615</td>\n",
       "      <td>8.153166</td>\n",
       "      <td>0.00</td>\n",
       "      <td>0.00</td>\n",
       "    </tr>\n",
       "    <tr>\n",
       "      <th>2020-02-20</th>\n",
       "      <td>90.19</td>\n",
       "      <td>35.98</td>\n",
       "      <td>84.17</td>\n",
       "      <td>109.81</td>\n",
       "      <td>42.97</td>\n",
       "      <td>10.25</td>\n",
       "      <td>142.53</td>\n",
       "      <td>58.88</td>\n",
       "      <td>59.86</td>\n",
       "      <td>60.26</td>\n",
       "      <td>...</td>\n",
       "      <td>29219.98</td>\n",
       "      <td>952.40</td>\n",
       "      <td>-0.387448</td>\n",
       "      <td>0.192474</td>\n",
       "      <td>-0.167570</td>\n",
       "      <td>1.922258</td>\n",
       "      <td>2.098260</td>\n",
       "      <td>-1.300847</td>\n",
       "      <td>-0.20</td>\n",
       "      <td>0.00</td>\n",
       "    </tr>\n",
       "    <tr>\n",
       "      <th>2020-02-21</th>\n",
       "      <td>89.25</td>\n",
       "      <td>35.36</td>\n",
       "      <td>82.90</td>\n",
       "      <td>109.01</td>\n",
       "      <td>42.12</td>\n",
       "      <td>10.11</td>\n",
       "      <td>142.25</td>\n",
       "      <td>58.44</td>\n",
       "      <td>59.13</td>\n",
       "      <td>59.13</td>\n",
       "      <td>...</td>\n",
       "      <td>28992.41</td>\n",
       "      <td>948.74</td>\n",
       "      <td>0.547162</td>\n",
       "      <td>2.786383</td>\n",
       "      <td>-1.632662</td>\n",
       "      <td>1.082046</td>\n",
       "      <td>3.656008</td>\n",
       "      <td>6.725381</td>\n",
       "      <td>0.00</td>\n",
       "      <td>0.00</td>\n",
       "    </tr>\n",
       "    <tr>\n",
       "      <th>2020-02-24</th>\n",
       "      <td>86.56</td>\n",
       "      <td>34.06</td>\n",
       "      <td>78.10</td>\n",
       "      <td>104.71</td>\n",
       "      <td>39.48</td>\n",
       "      <td>9.46</td>\n",
       "      <td>135.97</td>\n",
       "      <td>56.38</td>\n",
       "      <td>56.36</td>\n",
       "      <td>55.87</td>\n",
       "      <td>...</td>\n",
       "      <td>27960.80</td>\n",
       "      <td>935.91</td>\n",
       "      <td>3.010224</td>\n",
       "      <td>1.766222</td>\n",
       "      <td>0.129503</td>\n",
       "      <td>0.641213</td>\n",
       "      <td>0.961066</td>\n",
       "      <td>7.336245</td>\n",
       "      <td>0.10</td>\n",
       "      <td>0.00</td>\n",
       "    </tr>\n",
       "    <tr>\n",
       "      <th>...</th>\n",
       "      <td>...</td>\n",
       "      <td>...</td>\n",
       "      <td>...</td>\n",
       "      <td>...</td>\n",
       "      <td>...</td>\n",
       "      <td>...</td>\n",
       "      <td>...</td>\n",
       "      <td>...</td>\n",
       "      <td>...</td>\n",
       "      <td>...</td>\n",
       "      <td>...</td>\n",
       "      <td>...</td>\n",
       "      <td>...</td>\n",
       "      <td>...</td>\n",
       "      <td>...</td>\n",
       "      <td>...</td>\n",
       "      <td>...</td>\n",
       "      <td>...</td>\n",
       "      <td>...</td>\n",
       "      <td>...</td>\n",
       "      <td>...</td>\n",
       "    </tr>\n",
       "    <tr>\n",
       "      <th>2021-02-19</th>\n",
       "      <td>82.31</td>\n",
       "      <td>22.87</td>\n",
       "      <td>71.53</td>\n",
       "      <td>95.80</td>\n",
       "      <td>25.42</td>\n",
       "      <td>9.45</td>\n",
       "      <td>133.94</td>\n",
       "      <td>48.42</td>\n",
       "      <td>52.37</td>\n",
       "      <td>53.00</td>\n",
       "      <td>...</td>\n",
       "      <td>31494.32</td>\n",
       "      <td>846.51</td>\n",
       "      <td>-26.703297</td>\n",
       "      <td>-20.935180</td>\n",
       "      <td>-12.503418</td>\n",
       "      <td>12.225713</td>\n",
       "      <td>-25.787372</td>\n",
       "      <td>-26.599754</td>\n",
       "      <td>0.00</td>\n",
       "      <td>0.00</td>\n",
       "    </tr>\n",
       "    <tr>\n",
       "      <th>2021-02-22</th>\n",
       "      <td>83.96</td>\n",
       "      <td>23.63</td>\n",
       "      <td>74.25</td>\n",
       "      <td>98.39</td>\n",
       "      <td>26.47</td>\n",
       "      <td>10.20</td>\n",
       "      <td>139.47</td>\n",
       "      <td>50.88</td>\n",
       "      <td>54.30</td>\n",
       "      <td>54.85</td>\n",
       "      <td>...</td>\n",
       "      <td>31521.69</td>\n",
       "      <td>830.38</td>\n",
       "      <td>-19.689617</td>\n",
       "      <td>-14.583490</td>\n",
       "      <td>-8.355705</td>\n",
       "      <td>8.119504</td>\n",
       "      <td>-18.301961</td>\n",
       "      <td>-17.634278</td>\n",
       "      <td>0.00</td>\n",
       "      <td>0.00</td>\n",
       "    </tr>\n",
       "    <tr>\n",
       "      <th>2021-02-23</th>\n",
       "      <td>85.53</td>\n",
       "      <td>24.23</td>\n",
       "      <td>75.81</td>\n",
       "      <td>99.63</td>\n",
       "      <td>26.06</td>\n",
       "      <td>11.16</td>\n",
       "      <td>145.24</td>\n",
       "      <td>52.10</td>\n",
       "      <td>55.05</td>\n",
       "      <td>55.77</td>\n",
       "      <td>...</td>\n",
       "      <td>31537.35</td>\n",
       "      <td>835.85</td>\n",
       "      <td>-19.324188</td>\n",
       "      <td>-8.923650</td>\n",
       "      <td>-3.151351</td>\n",
       "      <td>6.976641</td>\n",
       "      <td>-14.679208</td>\n",
       "      <td>2.265554</td>\n",
       "      <td>-0.27</td>\n",
       "      <td>-0.50</td>\n",
       "    </tr>\n",
       "    <tr>\n",
       "      <th>2021-02-24</th>\n",
       "      <td>87.25</td>\n",
       "      <td>25.30</td>\n",
       "      <td>78.16</td>\n",
       "      <td>103.31</td>\n",
       "      <td>28.16</td>\n",
       "      <td>11.84</td>\n",
       "      <td>150.06</td>\n",
       "      <td>54.67</td>\n",
       "      <td>56.70</td>\n",
       "      <td>56.65</td>\n",
       "      <td>...</td>\n",
       "      <td>31961.86</td>\n",
       "      <td>825.65</td>\n",
       "      <td>-18.923493</td>\n",
       "      <td>-6.442705</td>\n",
       "      <td>-2.626381</td>\n",
       "      <td>6.734819</td>\n",
       "      <td>-12.945525</td>\n",
       "      <td>7.219697</td>\n",
       "      <td>-0.10</td>\n",
       "      <td>-0.50</td>\n",
       "    </tr>\n",
       "    <tr>\n",
       "      <th>2021-02-25</th>\n",
       "      <td>84.64</td>\n",
       "      <td>25.59</td>\n",
       "      <td>78.15</td>\n",
       "      <td>102.35</td>\n",
       "      <td>26.75</td>\n",
       "      <td>11.30</td>\n",
       "      <td>149.05</td>\n",
       "      <td>53.03</td>\n",
       "      <td>55.76</td>\n",
       "      <td>55.07</td>\n",
       "      <td>...</td>\n",
       "      <td>31402.01</td>\n",
       "      <td>814.39</td>\n",
       "      <td>-19.029221</td>\n",
       "      <td>-8.706634</td>\n",
       "      <td>-3.693143</td>\n",
       "      <td>7.026578</td>\n",
       "      <td>-13.389535</td>\n",
       "      <td>-2.223188</td>\n",
       "      <td>0.00</td>\n",
       "      <td>0.07</td>\n",
       "    </tr>\n",
       "  </tbody>\n",
       "</table>\n",
       "<p>244 rows × 23 columns</p>\n",
       "</div>"
      ],
      "text/plain": [
       "            phillips_66  bp_plc  valero_energy_corporation  \\\n",
       "date                                                         \n",
       "2020-02-18        88.00   36.09                      82.52   \n",
       "2020-02-19        88.36   36.25                      83.23   \n",
       "2020-02-20        90.19   35.98                      84.17   \n",
       "2020-02-21        89.25   35.36                      82.90   \n",
       "2020-02-24        86.56   34.06                      78.10   \n",
       "...                 ...     ...                        ...   \n",
       "2021-02-19        82.31   22.87                      71.53   \n",
       "2021-02-22        83.96   23.63                      74.25   \n",
       "2021-02-23        85.53   24.23                      75.81   \n",
       "2021-02-24        87.25   25.30                      78.16   \n",
       "2021-02-25        84.64   25.59                      78.15   \n",
       "\n",
       "            chevron_corporation  occidental_petroleum_corporation  \\\n",
       "date                                                                \n",
       "2020-02-18               110.24                             41.56   \n",
       "2020-02-19               110.74                             42.51   \n",
       "2020-02-20               109.81                             42.97   \n",
       "2020-02-21               109.01                             42.12   \n",
       "2020-02-24               104.71                             39.48   \n",
       "...                         ...                               ...   \n",
       "2021-02-19                95.80                             25.42   \n",
       "2021-02-22                98.39                             26.47   \n",
       "2021-02-23                99.63                             26.06   \n",
       "2021-02-24               103.31                             28.16   \n",
       "2021-02-25               102.35                             26.75   \n",
       "\n",
       "            marathon_oil_corporation  pioneer_natural_resources_company  \\\n",
       "date                                                                      \n",
       "2020-02-18                     10.30                             135.56   \n",
       "2020-02-19                     10.47                             141.17   \n",
       "2020-02-20                     10.25                             142.53   \n",
       "2020-02-21                     10.11                             142.25   \n",
       "2020-02-24                      9.46                             135.97   \n",
       "...                              ...                                ...   \n",
       "2021-02-19                      9.45                             133.94   \n",
       "2021-02-22                     10.20                             139.47   \n",
       "2021-02-23                     11.16                             145.24   \n",
       "2021-02-24                     11.84                             150.06   \n",
       "2021-02-25                     11.30                             149.05   \n",
       "\n",
       "            conocophillips  exxon_mobil_corporation  \\\n",
       "date                                                  \n",
       "2020-02-18           58.30                    59.88   \n",
       "2020-02-19           59.26                    60.34   \n",
       "2020-02-20           58.88                    59.86   \n",
       "2020-02-21           58.44                    59.13   \n",
       "2020-02-24           56.38                    56.36   \n",
       "...                    ...                      ...   \n",
       "2021-02-19           48.42                    52.37   \n",
       "2021-02-22           50.88                    54.30   \n",
       "2021-02-23           52.10                    55.05   \n",
       "2021-02-24           54.67                    56.70   \n",
       "2021-02-25           53.03                    55.76   \n",
       "\n",
       "            marathon_petroleum_corporation  ...  dow_jones_industrial_average  \\\n",
       "date                                        ...                                 \n",
       "2020-02-18                           56.47  ...                      29232.19   \n",
       "2020-02-19                           57.69  ...                      29348.03   \n",
       "2020-02-20                           60.26  ...                      29219.98   \n",
       "2020-02-21                           59.13  ...                      28992.41   \n",
       "2020-02-24                           55.87  ...                      27960.80   \n",
       "...                                    ...  ...                           ...   \n",
       "2021-02-19                           53.00  ...                      31494.32   \n",
       "2021-02-22                           54.85  ...                      31521.69   \n",
       "2021-02-23                           55.77  ...                      31537.35   \n",
       "2021-02-24                           56.65  ...                      31961.86   \n",
       "2021-02-25                           55.07  ...                      31402.01   \n",
       "\n",
       "            dow_jones_utility_average  workplaces  retail_and_recreation  \\\n",
       "date                                                                       \n",
       "2020-02-18                     960.89   -0.006305              -0.211659   \n",
       "2020-02-19                     950.01    1.001656               2.222899   \n",
       "2020-02-20                     952.40   -0.387448               0.192474   \n",
       "2020-02-21                     948.74    0.547162               2.786383   \n",
       "2020-02-24                     935.91    3.010224               1.766222   \n",
       "...                               ...         ...                    ...   \n",
       "2021-02-19                     846.51  -26.703297             -20.935180   \n",
       "2021-02-22                     830.38  -19.689617             -14.583490   \n",
       "2021-02-23                     835.85  -19.324188              -8.923650   \n",
       "2021-02-24                     825.65  -18.923493              -6.442705   \n",
       "2021-02-25                     814.39  -19.029221              -8.706634   \n",
       "\n",
       "            grocery_and_pharmacy  residential  transit_stations      parks  \\\n",
       "date                                                                         \n",
       "2020-02-18             -1.377153     1.345745          2.440042   5.466077   \n",
       "2020-02-19              0.639556     0.345455          2.634615   8.153166   \n",
       "2020-02-20             -0.167570     1.922258          2.098260  -1.300847   \n",
       "2020-02-21             -1.632662     1.082046          3.656008   6.725381   \n",
       "2020-02-24              0.129503     0.641213          0.961066   7.336245   \n",
       "...                          ...          ...               ...        ...   \n",
       "2021-02-19            -12.503418    12.225713        -25.787372 -26.599754   \n",
       "2021-02-22             -8.355705     8.119504        -18.301961 -17.634278   \n",
       "2021-02-23             -3.151351     6.976641        -14.679208   2.265554   \n",
       "2021-02-24             -2.626381     6.734819        -12.945525   7.219697   \n",
       "2021-02-25             -3.693143     7.026578        -13.389535  -2.223188   \n",
       "\n",
       "            int_news_sentiment  na_news_sentiment  \n",
       "date                                               \n",
       "2020-02-18                0.00               0.00  \n",
       "2020-02-19                0.00               0.00  \n",
       "2020-02-20               -0.20               0.00  \n",
       "2020-02-21                0.00               0.00  \n",
       "2020-02-24                0.10               0.00  \n",
       "...                        ...                ...  \n",
       "2021-02-19                0.00               0.00  \n",
       "2021-02-22                0.00               0.00  \n",
       "2021-02-23               -0.27              -0.50  \n",
       "2021-02-24               -0.10              -0.50  \n",
       "2021-02-25                0.00               0.07  \n",
       "\n",
       "[244 rows x 23 columns]"
      ]
     },
     "execution_count": 39,
     "metadata": {},
     "output_type": "execute_result"
    }
   ],
   "source": [
    "df_na = df_0.fillna({'int_news_sentiment':0})\n",
    "df_na = df_na.fillna({'na_news_sentiment':0})\n",
    "df_na = df_na.dropna()\n",
    "df_na"
   ]
  },
  {
   "cell_type": "markdown",
   "metadata": {},
   "source": [
    "### Alternate Method"
   ]
  },
  {
   "cell_type": "code",
   "execution_count": 40,
   "metadata": {},
   "outputs": [],
   "source": [
    "#df_0.fillna({'int_news_sentiment':0}, inplace=True)\n",
    "#df_0.fillna({'na_news_sentiment':0}, inplace=True)\n",
    "#df_0.dropna(inplace=True)\n",
    "#df_0"
   ]
  },
  {
   "cell_type": "markdown",
   "metadata": {},
   "source": [
    "<a id='Save-Data'></a>\n",
    "\n",
    "---\n",
    "## Save Data to CSV\n",
    "\n",
    "[[ go back to the top ]](#Table-of-Contents)"
   ]
  },
  {
   "cell_type": "code",
   "execution_count": 41,
   "metadata": {},
   "outputs": [],
   "source": [
    "#df_na.to_csv(r'./model_ready_data.csv', index = True)"
   ]
  },
  {
   "cell_type": "code",
   "execution_count": null,
   "metadata": {},
   "outputs": [],
   "source": []
  }
 ],
 "metadata": {
  "kernelspec": {
   "display_name": "Python 3",
   "language": "python",
   "name": "python3"
  },
  "language_info": {
   "codemirror_mode": {
    "name": "ipython",
    "version": 3
   },
   "file_extension": ".py",
   "mimetype": "text/x-python",
   "name": "python",
   "nbconvert_exporter": "python",
   "pygments_lexer": "ipython3",
   "version": "3.8.3"
  }
 },
 "nbformat": 4,
 "nbformat_minor": 4
}
