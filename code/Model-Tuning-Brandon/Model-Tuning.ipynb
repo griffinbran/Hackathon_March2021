{
 "cells": [
  {
   "cell_type": "markdown",
   "metadata": {},
   "source": [
    "<h1 style=\"text-align: center;\"> Model Tuning </p>"
   ]
  },
  {
   "cell_type": "markdown",
   "metadata": {},
   "source": [
    "## Notebook Description\n",
    "\n",
    "In this notebook, time-series data are modeled for forecasting oil stock performance as part of the requirements of the RMDS 2021 Data Science Competition."
   ]
  },
  {
   "cell_type": "markdown",
   "metadata": {},
   "source": [
    "##  Table of contents\n",
    "1. [Required Libraries](#Required-Libraries)\n",
    "2. [Load Data](#Load-Data)\n",
    "3. [Format Column Names](#Format-Column-Names)\n",
    "4. [Set Timestamp Range & Frequency](#Set-Timestamp-Range-&-Frequency)\n",
    "5. [Merge Data](#Merge-DataFrames)\n",
    "6. \n",
    "7. \n",
    "8. \n",
    "9. \n",
    "10. \n",
    "11. [ARIMA Modeling](#ARIMA-Modeling)\n",
    "12. [Conclusion](#Conclusion)"
   ]
  },
  {
   "cell_type": "markdown",
   "metadata": {},
   "source": [
    "## Required Libraries\n",
    "\n",
    "[[ go back to the top ]](#Table-of-contents)\n",
    "\n",
    "This notebook uses several Python libraries such as:"
   ]
  },
  {
   "cell_type": "code",
   "execution_count": 159,
   "metadata": {},
   "outputs": [],
   "source": [
    "# Load required packages \n",
    "import datetime\n",
    "from datetime import timedelta\n",
    "import numpy as np\n",
    "import pandas as pd\n",
    "\n",
    "# Visuals\n",
    "import matplotlib.pyplot as plt\n",
    "import seaborn as sns\n",
    "\n",
    "# Time-Series\n",
    "import statsmodels.api as sm\n",
    "#from statsmodels.tsa.stattools import adfuller\n",
    "#from statsmodels.tsa.seasonal import seasonal_decompose\n",
    "#from statsmodels.tsa.stattools import acf, pacf\n",
    "#from statsmodels.graphics.tsaplots import plot_acf, plot_pacf\n",
    "from statsmodels.tsa.arima_model import ARMA, ARIMA\n",
    "from scipy import signal\n",
    "import scipy.stats as stats\n",
    "\n",
    "import warnings\n",
    "warnings.filterwarnings(\"ignore\")"
   ]
  },
  {
   "cell_type": "markdown",
   "metadata": {},
   "source": [
    "<a id='Load-Data'></a>\n",
    "\n",
    "---\n",
    "## Load Data\n",
    "\n",
    "[[ go back to the top ]](#Table-of-contents)"
   ]
  },
  {
   "cell_type": "code",
   "execution_count": 160,
   "metadata": {},
   "outputs": [],
   "source": [
    "# Load Data Function\n",
    "def LOAD_DATA(filepath, filename):\n",
    "    # Read CSV files\n",
    "    if filename.endswith('.csv'):\n",
    "        new_df = pd.read_csv(filepath+filename)\n",
    "\n",
    "    # Read Excel files\n",
    "    elif filename.endswith('.xlsx'):\n",
    "        new_df = pd.read_excel(filepath+filename)\n",
    "    print(type(new_df.index))\n",
    "    if type(new_df.index) != pd.core.indexes.datetimes.DatetimeIndex:\n",
    "        for col in new_df.columns:\n",
    "            if col.lower().find('date') != -1:\n",
    "                print(f\"TIMESTAMP FOUND! '{col}'\")\n",
    "                print()\n",
    "                new_df['date'] = pd.to_datetime(new_df[col]) # format = '%Y/%m/%d'\n",
    "                new_df.set_index('date', inplace = True)\n",
    "                # If datetime col was already == 'date', no need to drop col after set_index, otherwise...\n",
    "                if col != 'date':\n",
    "                    new_df.drop(columns = col, inplace = True)\n",
    "                \n",
    "    # Try to identify the date column\n",
    "    elif type(new_df.index) == pd.core.indexes.datetimes.DatetimeIndex:\n",
    "        print('Index already in datetime')\n",
    "        \n",
    "    display(new_df.info())\n",
    "    return new_df"
   ]
  },
  {
   "cell_type": "code",
   "execution_count": 161,
   "metadata": {},
   "outputs": [
    {
     "name": "stdout",
     "output_type": "stream",
     "text": [
      "<class 'pandas.core.indexes.range.RangeIndex'>\n",
      "TIMESTAMP FOUND! 'DateTime'\n",
      "\n",
      "<class 'pandas.core.frame.DataFrame'>\n",
      "DatetimeIndex: 395 entries, 2000-04-17 to 2021-02-27\n",
      "Data columns (total 1 columns):\n",
      " #   Column                Non-Null Count  Dtype  \n",
      "---  ------                --------------  -----  \n",
      " 0   Daily News Sentiment  395 non-null    float64\n",
      "dtypes: float64(1)\n",
      "memory usage: 6.2 KB\n"
     ]
    },
    {
     "data": {
      "text/plain": [
       "None"
      ]
     },
     "metadata": {},
     "output_type": "display_data"
    }
   ],
   "source": [
    "# Load International Sentiment Data\n",
    "\n",
    "fpath = '../../data/News_AI_Sentiments/'\n",
    "fname = 'daily-news-sentiment-international.csv'\n",
    "\n",
    "sentiment_int = LOAD_DATA(filepath = fpath, filename = fname)\n",
    "#sentiment_int"
   ]
  },
  {
   "cell_type": "code",
   "execution_count": 162,
   "metadata": {},
   "outputs": [
    {
     "name": "stdout",
     "output_type": "stream",
     "text": [
      "<class 'pandas.core.indexes.range.RangeIndex'>\n",
      "TIMESTAMP FOUND! 'DateTime'\n",
      "\n",
      "<class 'pandas.core.frame.DataFrame'>\n",
      "DatetimeIndex: 396 entries, 2013-07-26 to 2021-02-27\n",
      "Data columns (total 1 columns):\n",
      " #   Column                Non-Null Count  Dtype  \n",
      "---  ------                --------------  -----  \n",
      " 0   Daily News Sentiment  396 non-null    float64\n",
      "dtypes: float64(1)\n",
      "memory usage: 6.2 KB\n"
     ]
    },
    {
     "data": {
      "text/plain": [
       "None"
      ]
     },
     "metadata": {},
     "output_type": "display_data"
    }
   ],
   "source": [
    "# Load North American Sentiment Data\n",
    "\n",
    "fpath = '../../data/News_AI_Sentiments/'\n",
    "fname = 'daily-news-sentiment-NA.csv'\n",
    "\n",
    "sentiment_na = LOAD_DATA(filepath = fpath, filename = fname)\n",
    "#sentiment_na"
   ]
  },
  {
   "cell_type": "code",
   "execution_count": 163,
   "metadata": {},
   "outputs": [
    {
     "name": "stdout",
     "output_type": "stream",
     "text": [
      "<class 'pandas.core.indexes.range.RangeIndex'>\n",
      "TIMESTAMP FOUND! 'Date'\n",
      "\n",
      "<class 'pandas.core.frame.DataFrame'>\n",
      "DatetimeIndex: 985 entries, 2017-03-21 to 2021-02-25\n",
      "Data columns (total 10 columns):\n",
      " #   Column                                   Non-Null Count  Dtype  \n",
      "---  ------                                   --------------  -----  \n",
      " 0   Value_PHILLIPS 66                        985 non-null    float64\n",
      " 1   Value_BP P.L.C.                          985 non-null    float64\n",
      " 2   Value_VALERO ENERGY CORPORATION          985 non-null    float64\n",
      " 3   Value_CHEVRON CORPORATION                985 non-null    float64\n",
      " 4   Value_OCCIDENTAL PETROLEUM CORPORATION   985 non-null    float64\n",
      " 5   Value_MARATHON OIL CORPORATION           985 non-null    float64\n",
      " 6   Value_PIONEER NATURAL RESOURCES COMPANY  985 non-null    float64\n",
      " 7   Value_CONOCOPHILLIPS                     985 non-null    float64\n",
      " 8   Value_EXXON MOBIL CORPORATION            985 non-null    float64\n",
      " 9   Value_MARATHON PETROLEUM CORPORATION     985 non-null    float64\n",
      "dtypes: float64(10)\n",
      "memory usage: 84.6 KB\n"
     ]
    },
    {
     "data": {
      "text/plain": [
       "None"
      ]
     },
     "metadata": {},
     "output_type": "display_data"
    }
   ],
   "source": [
    "# Load Stock-Closing-Price by Company Data\n",
    "fpath = '../../'\n",
    "fname = 'closing_price_by_company.csv'\n",
    "closing_price = LOAD_DATA(filepath = fpath, filename = fname)\n",
    "#closing_price"
   ]
  },
  {
   "cell_type": "code",
   "execution_count": 164,
   "metadata": {},
   "outputs": [
    {
     "name": "stdout",
     "output_type": "stream",
     "text": [
      "<class 'pandas.core.indexes.range.RangeIndex'>\n",
      "TIMESTAMP FOUND! 'date'\n",
      "\n",
      "<class 'pandas.core.frame.DataFrame'>\n",
      "DatetimeIndex: 382 entries, 2020-02-15 to 2021-03-02\n",
      "Data columns (total 6 columns):\n",
      " #   Column                 Non-Null Count  Dtype  \n",
      "---  ------                 --------------  -----  \n",
      " 0   workplaces             382 non-null    float64\n",
      " 1   retail_and_recreation  382 non-null    float64\n",
      " 2   grocery_and_pharmacy   382 non-null    float64\n",
      " 3   residential            382 non-null    float64\n",
      " 4   transit_stations       382 non-null    float64\n",
      " 5   parks                  382 non-null    float64\n",
      "dtypes: float64(6)\n",
      "memory usage: 20.9 KB\n"
     ]
    },
    {
     "data": {
      "text/plain": [
       "None"
      ]
     },
     "metadata": {},
     "output_type": "display_data"
    }
   ],
   "source": [
    "# Load Google Mobility Trends grouped by Indicator\n",
    "fpath = '../../data/Transportation/google/'\n",
    "fname = 'baseline_pct_change.csv'\n",
    "google_mobility = LOAD_DATA(filepath = fpath, filename = fname)\n",
    "#google_mobility"
   ]
  },
  {
   "cell_type": "markdown",
   "metadata": {},
   "source": [
    "<a id='Format-Column-Names'></a>\n",
    "\n",
    "---\n",
    "## Format Column Names\n",
    "\n",
    "[[ go back to the top ]](#Table-of-contents)"
   ]
  },
  {
   "cell_type": "code",
   "execution_count": 165,
   "metadata": {},
   "outputs": [],
   "source": [
    "# Function to enforce snake case (no spaces, no caps, no DOTs)\n",
    "def FORMAT_TITLES(dataframe, start = 0, end = 0):\n",
    "    df = dataframe\n",
    "    # Remove extra characters in name\n",
    "    for index, label in enumerate(df.columns):\n",
    "        # IF not specified, don't remove chars from end\n",
    "        if end == 0:\n",
    "            name = label[start:]\n",
    "        # Remove 'end'-number of chars from end-of-string\n",
    "        elif end != 0:\n",
    "            name = label[start:end]\n",
    "        # Format column names to be in 'snake case'\n",
    "        formatted_name = name.strip().lower().replace('.', '').replace(\" \", \"_\")\n",
    "        df.rename(columns = {label:formatted_name}, inplace = True)\n",
    "    return df"
   ]
  },
  {
   "cell_type": "code",
   "execution_count": 166,
   "metadata": {},
   "outputs": [],
   "source": [
    "sentiment_int = FORMAT_TITLES(sentiment_int)\n",
    "sentiment_int.rename(columns = {'daily_news_sentiment':'int_news_sentiment'}, inplace = True)\n",
    "#sentiment_int"
   ]
  },
  {
   "cell_type": "code",
   "execution_count": 167,
   "metadata": {},
   "outputs": [],
   "source": [
    "sentiment_na = FORMAT_TITLES(sentiment_na)\n",
    "sentiment_na.rename(columns = {'daily_news_sentiment':'na_news_sentiment'}, inplace = True)\n",
    "#sentiment_na"
   ]
  },
  {
   "cell_type": "code",
   "execution_count": 168,
   "metadata": {},
   "outputs": [],
   "source": [
    "closing_price = FORMAT_TITLES(closing_price, start = 6)\n",
    "#closing_price"
   ]
  },
  {
   "cell_type": "code",
   "execution_count": 169,
   "metadata": {},
   "outputs": [],
   "source": [
    "google_mobility = FORMAT_TITLES(google_mobility)\n",
    "#google_mobility"
   ]
  },
  {
   "cell_type": "markdown",
   "metadata": {},
   "source": [
    "---\n",
    "## Set Timestamp Range & Frequency\n",
    "\n",
    "[[ go back to the top ]](#Table-of-contents)"
   ]
  },
  {
   "cell_type": "code",
   "execution_count": 170,
   "metadata": {},
   "outputs": [
    {
     "data": {
      "text/plain": [
       "Timestamp('2020-02-15 00:00:00')"
      ]
     },
     "execution_count": 170,
     "metadata": {},
     "output_type": "execute_result"
    }
   ],
   "source": [
    "# Store the latest occurring minimum Timestamp from all the DF's\n",
    "start = max([df_listed[idx].index[0] for idx in range(len(df_listed))])\n",
    "start"
   ]
  },
  {
   "cell_type": "markdown",
   "metadata": {},
   "source": [
    "<a id='Merge-Data'></a>\n",
    "\n",
    "---\n",
    "## Merge DataFrames\n",
    "\n",
    "[[ go back to the top ]](#Table-of-contents)"
   ]
  },
  {
   "cell_type": "code",
   "execution_count": 171,
   "metadata": {},
   "outputs": [
    {
     "name": "stdout",
     "output_type": "stream",
     "text": [
      "closing_price\t df\t df_0\t df_1\t df_i\t google_mobility\t sentiment_int\t sentiment_na\t x\t \n",
      "\n"
     ]
    }
   ],
   "source": [
    "# Identify all DataFrames in this Notebook\n",
    "%who DataFrame"
   ]
  },
  {
   "cell_type": "code",
   "execution_count": 172,
   "metadata": {},
   "outputs": [
    {
     "name": "stdout",
     "output_type": "stream",
     "text": [
      "<class 'pandas.core.frame.DataFrame'>\n",
      "DatetimeIndex: 272 entries, 2020-02-17 to 2021-03-02\n",
      "Freq: B\n",
      "Data columns (total 18 columns):\n",
      " #   Column                             Non-Null Count  Dtype  \n",
      "---  ------                             --------------  -----  \n",
      " 0   phillips_66                        244 non-null    float64\n",
      " 1   bp_plc                             244 non-null    float64\n",
      " 2   valero_energy_corporation          244 non-null    float64\n",
      " 3   chevron_corporation                244 non-null    float64\n",
      " 4   occidental_petroleum_corporation   244 non-null    float64\n",
      " 5   marathon_oil_corporation           244 non-null    float64\n",
      " 6   pioneer_natural_resources_company  244 non-null    float64\n",
      " 7   conocophillips                     244 non-null    float64\n",
      " 8   exxon_mobil_corporation            244 non-null    float64\n",
      " 9   marathon_petroleum_corporation     244 non-null    float64\n",
      " 10  workplaces                         272 non-null    float64\n",
      " 11  retail_and_recreation              272 non-null    float64\n",
      " 12  grocery_and_pharmacy               272 non-null    float64\n",
      " 13  residential                        272 non-null    float64\n",
      " 14  transit_stations                   272 non-null    float64\n",
      " 15  parks                              272 non-null    float64\n",
      " 16  int_news_sentiment                 108 non-null    float64\n",
      " 17  na_news_sentiment                  58 non-null     float64\n",
      "dtypes: float64(18)\n",
      "memory usage: 40.4 KB\n"
     ]
    },
    {
     "data": {
      "text/plain": [
       "None"
      ]
     },
     "metadata": {},
     "output_type": "display_data"
    }
   ],
   "source": [
    "df_listed = [closing_price, google_mobility, sentiment_int, sentiment_na]\n",
    "count = 0\n",
    "for df_i in df_listed:\n",
    "    # For the first DF, all the others will concat to df_0\n",
    "    if count == 0:\n",
    "        # Drop weekend data\n",
    "        df_0 = df_i[df_i.index.dayofweek < 5]\n",
    "        # Drop dates before Google Mobililty data begins\n",
    "        df_0 = df_0.loc[start:].copy()\n",
    "    else:\n",
    "        # Drop weekend data\n",
    "        df_1 = df_i[df_i.index.dayofweek < 5]\n",
    "        # Concat all the others\n",
    "        df_0 = pd.concat([df_0, df_1.loc[start:]], axis =1)\n",
    "    count += 1\n",
    "display(df_0.info())"
   ]
  },
  {
   "cell_type": "code",
   "execution_count": 173,
   "metadata": {},
   "outputs": [
    {
     "data": {
      "text/html": [
       "<div>\n",
       "<style scoped>\n",
       "    .dataframe tbody tr th:only-of-type {\n",
       "        vertical-align: middle;\n",
       "    }\n",
       "\n",
       "    .dataframe tbody tr th {\n",
       "        vertical-align: top;\n",
       "    }\n",
       "\n",
       "    .dataframe thead th {\n",
       "        text-align: right;\n",
       "    }\n",
       "</style>\n",
       "<table border=\"1\" class=\"dataframe\">\n",
       "  <thead>\n",
       "    <tr style=\"text-align: right;\">\n",
       "      <th></th>\n",
       "      <th>phillips_66</th>\n",
       "      <th>bp_plc</th>\n",
       "      <th>valero_energy_corporation</th>\n",
       "      <th>chevron_corporation</th>\n",
       "      <th>occidental_petroleum_corporation</th>\n",
       "      <th>marathon_oil_corporation</th>\n",
       "      <th>pioneer_natural_resources_company</th>\n",
       "      <th>conocophillips</th>\n",
       "      <th>exxon_mobil_corporation</th>\n",
       "      <th>marathon_petroleum_corporation</th>\n",
       "      <th>workplaces</th>\n",
       "      <th>retail_and_recreation</th>\n",
       "      <th>grocery_and_pharmacy</th>\n",
       "      <th>residential</th>\n",
       "      <th>transit_stations</th>\n",
       "      <th>parks</th>\n",
       "      <th>int_news_sentiment</th>\n",
       "      <th>na_news_sentiment</th>\n",
       "    </tr>\n",
       "    <tr>\n",
       "      <th>date</th>\n",
       "      <th></th>\n",
       "      <th></th>\n",
       "      <th></th>\n",
       "      <th></th>\n",
       "      <th></th>\n",
       "      <th></th>\n",
       "      <th></th>\n",
       "      <th></th>\n",
       "      <th></th>\n",
       "      <th></th>\n",
       "      <th></th>\n",
       "      <th></th>\n",
       "      <th></th>\n",
       "      <th></th>\n",
       "      <th></th>\n",
       "      <th></th>\n",
       "      <th></th>\n",
       "      <th></th>\n",
       "    </tr>\n",
       "  </thead>\n",
       "  <tbody>\n",
       "    <tr>\n",
       "      <th>2020-02-17</th>\n",
       "      <td>NaN</td>\n",
       "      <td>NaN</td>\n",
       "      <td>NaN</td>\n",
       "      <td>NaN</td>\n",
       "      <td>NaN</td>\n",
       "      <td>NaN</td>\n",
       "      <td>NaN</td>\n",
       "      <td>NaN</td>\n",
       "      <td>NaN</td>\n",
       "      <td>NaN</td>\n",
       "      <td>-17.756044</td>\n",
       "      <td>4.049697</td>\n",
       "      <td>-0.375113</td>\n",
       "      <td>4.405907</td>\n",
       "      <td>1.903259</td>\n",
       "      <td>28.271605</td>\n",
       "      <td>NaN</td>\n",
       "      <td>NaN</td>\n",
       "    </tr>\n",
       "    <tr>\n",
       "      <th>2020-02-18</th>\n",
       "      <td>88.00</td>\n",
       "      <td>36.09</td>\n",
       "      <td>82.52</td>\n",
       "      <td>110.24</td>\n",
       "      <td>41.56</td>\n",
       "      <td>10.30</td>\n",
       "      <td>135.56</td>\n",
       "      <td>58.30</td>\n",
       "      <td>59.88</td>\n",
       "      <td>56.47</td>\n",
       "      <td>-0.006305</td>\n",
       "      <td>-0.211659</td>\n",
       "      <td>-1.377153</td>\n",
       "      <td>1.345745</td>\n",
       "      <td>2.440042</td>\n",
       "      <td>5.466077</td>\n",
       "      <td>NaN</td>\n",
       "      <td>NaN</td>\n",
       "    </tr>\n",
       "    <tr>\n",
       "      <th>2020-02-19</th>\n",
       "      <td>88.36</td>\n",
       "      <td>36.25</td>\n",
       "      <td>83.23</td>\n",
       "      <td>110.74</td>\n",
       "      <td>42.51</td>\n",
       "      <td>10.47</td>\n",
       "      <td>141.17</td>\n",
       "      <td>59.26</td>\n",
       "      <td>60.34</td>\n",
       "      <td>57.69</td>\n",
       "      <td>1.001656</td>\n",
       "      <td>2.222899</td>\n",
       "      <td>0.639556</td>\n",
       "      <td>0.345455</td>\n",
       "      <td>2.634615</td>\n",
       "      <td>8.153166</td>\n",
       "      <td>NaN</td>\n",
       "      <td>NaN</td>\n",
       "    </tr>\n",
       "    <tr>\n",
       "      <th>2020-02-20</th>\n",
       "      <td>90.19</td>\n",
       "      <td>35.98</td>\n",
       "      <td>84.17</td>\n",
       "      <td>109.81</td>\n",
       "      <td>42.97</td>\n",
       "      <td>10.25</td>\n",
       "      <td>142.53</td>\n",
       "      <td>58.88</td>\n",
       "      <td>59.86</td>\n",
       "      <td>60.26</td>\n",
       "      <td>-0.387448</td>\n",
       "      <td>0.192474</td>\n",
       "      <td>-0.167570</td>\n",
       "      <td>1.922258</td>\n",
       "      <td>2.098260</td>\n",
       "      <td>-1.300847</td>\n",
       "      <td>-0.2</td>\n",
       "      <td>NaN</td>\n",
       "    </tr>\n",
       "    <tr>\n",
       "      <th>2020-02-21</th>\n",
       "      <td>89.25</td>\n",
       "      <td>35.36</td>\n",
       "      <td>82.90</td>\n",
       "      <td>109.01</td>\n",
       "      <td>42.12</td>\n",
       "      <td>10.11</td>\n",
       "      <td>142.25</td>\n",
       "      <td>58.44</td>\n",
       "      <td>59.13</td>\n",
       "      <td>59.13</td>\n",
       "      <td>0.547162</td>\n",
       "      <td>2.786383</td>\n",
       "      <td>-1.632662</td>\n",
       "      <td>1.082046</td>\n",
       "      <td>3.656008</td>\n",
       "      <td>6.725381</td>\n",
       "      <td>NaN</td>\n",
       "      <td>NaN</td>\n",
       "    </tr>\n",
       "    <tr>\n",
       "      <th>...</th>\n",
       "      <td>...</td>\n",
       "      <td>...</td>\n",
       "      <td>...</td>\n",
       "      <td>...</td>\n",
       "      <td>...</td>\n",
       "      <td>...</td>\n",
       "      <td>...</td>\n",
       "      <td>...</td>\n",
       "      <td>...</td>\n",
       "      <td>...</td>\n",
       "      <td>...</td>\n",
       "      <td>...</td>\n",
       "      <td>...</td>\n",
       "      <td>...</td>\n",
       "      <td>...</td>\n",
       "      <td>...</td>\n",
       "      <td>...</td>\n",
       "      <td>...</td>\n",
       "    </tr>\n",
       "    <tr>\n",
       "      <th>2021-02-24</th>\n",
       "      <td>87.25</td>\n",
       "      <td>25.30</td>\n",
       "      <td>78.16</td>\n",
       "      <td>103.31</td>\n",
       "      <td>28.16</td>\n",
       "      <td>11.84</td>\n",
       "      <td>150.06</td>\n",
       "      <td>54.67</td>\n",
       "      <td>56.70</td>\n",
       "      <td>56.65</td>\n",
       "      <td>-18.923493</td>\n",
       "      <td>-6.442705</td>\n",
       "      <td>-2.626381</td>\n",
       "      <td>6.734819</td>\n",
       "      <td>-12.945525</td>\n",
       "      <td>7.219697</td>\n",
       "      <td>-0.1</td>\n",
       "      <td>-0.50</td>\n",
       "    </tr>\n",
       "    <tr>\n",
       "      <th>2021-02-25</th>\n",
       "      <td>84.64</td>\n",
       "      <td>25.59</td>\n",
       "      <td>78.15</td>\n",
       "      <td>102.35</td>\n",
       "      <td>26.75</td>\n",
       "      <td>11.30</td>\n",
       "      <td>149.05</td>\n",
       "      <td>53.03</td>\n",
       "      <td>55.76</td>\n",
       "      <td>55.07</td>\n",
       "      <td>-19.029221</td>\n",
       "      <td>-8.706634</td>\n",
       "      <td>-3.693143</td>\n",
       "      <td>7.026578</td>\n",
       "      <td>-13.389535</td>\n",
       "      <td>-2.223188</td>\n",
       "      <td>0.0</td>\n",
       "      <td>0.07</td>\n",
       "    </tr>\n",
       "    <tr>\n",
       "      <th>2021-02-26</th>\n",
       "      <td>NaN</td>\n",
       "      <td>NaN</td>\n",
       "      <td>NaN</td>\n",
       "      <td>NaN</td>\n",
       "      <td>NaN</td>\n",
       "      <td>NaN</td>\n",
       "      <td>NaN</td>\n",
       "      <td>NaN</td>\n",
       "      <td>NaN</td>\n",
       "      <td>NaN</td>\n",
       "      <td>-18.122059</td>\n",
       "      <td>-11.026122</td>\n",
       "      <td>-7.390536</td>\n",
       "      <td>7.725445</td>\n",
       "      <td>-13.963636</td>\n",
       "      <td>-8.750973</td>\n",
       "      <td>-0.3</td>\n",
       "      <td>-0.40</td>\n",
       "    </tr>\n",
       "    <tr>\n",
       "      <th>2021-03-01</th>\n",
       "      <td>NaN</td>\n",
       "      <td>NaN</td>\n",
       "      <td>NaN</td>\n",
       "      <td>NaN</td>\n",
       "      <td>NaN</td>\n",
       "      <td>NaN</td>\n",
       "      <td>NaN</td>\n",
       "      <td>NaN</td>\n",
       "      <td>NaN</td>\n",
       "      <td>NaN</td>\n",
       "      <td>-18.512951</td>\n",
       "      <td>-8.222857</td>\n",
       "      <td>-3.490489</td>\n",
       "      <td>6.898305</td>\n",
       "      <td>-13.624381</td>\n",
       "      <td>-11.995798</td>\n",
       "      <td>NaN</td>\n",
       "      <td>NaN</td>\n",
       "    </tr>\n",
       "    <tr>\n",
       "      <th>2021-03-02</th>\n",
       "      <td>NaN</td>\n",
       "      <td>NaN</td>\n",
       "      <td>NaN</td>\n",
       "      <td>NaN</td>\n",
       "      <td>NaN</td>\n",
       "      <td>NaN</td>\n",
       "      <td>NaN</td>\n",
       "      <td>NaN</td>\n",
       "      <td>NaN</td>\n",
       "      <td>NaN</td>\n",
       "      <td>-19.297542</td>\n",
       "      <td>-7.359199</td>\n",
       "      <td>-2.265668</td>\n",
       "      <td>7.000000</td>\n",
       "      <td>-13.333004</td>\n",
       "      <td>-3.674521</td>\n",
       "      <td>NaN</td>\n",
       "      <td>NaN</td>\n",
       "    </tr>\n",
       "  </tbody>\n",
       "</table>\n",
       "<p>272 rows × 18 columns</p>\n",
       "</div>"
      ],
      "text/plain": [
       "            phillips_66  bp_plc  valero_energy_corporation  \\\n",
       "date                                                         \n",
       "2020-02-17          NaN     NaN                        NaN   \n",
       "2020-02-18        88.00   36.09                      82.52   \n",
       "2020-02-19        88.36   36.25                      83.23   \n",
       "2020-02-20        90.19   35.98                      84.17   \n",
       "2020-02-21        89.25   35.36                      82.90   \n",
       "...                 ...     ...                        ...   \n",
       "2021-02-24        87.25   25.30                      78.16   \n",
       "2021-02-25        84.64   25.59                      78.15   \n",
       "2021-02-26          NaN     NaN                        NaN   \n",
       "2021-03-01          NaN     NaN                        NaN   \n",
       "2021-03-02          NaN     NaN                        NaN   \n",
       "\n",
       "            chevron_corporation  occidental_petroleum_corporation  \\\n",
       "date                                                                \n",
       "2020-02-17                  NaN                               NaN   \n",
       "2020-02-18               110.24                             41.56   \n",
       "2020-02-19               110.74                             42.51   \n",
       "2020-02-20               109.81                             42.97   \n",
       "2020-02-21               109.01                             42.12   \n",
       "...                         ...                               ...   \n",
       "2021-02-24               103.31                             28.16   \n",
       "2021-02-25               102.35                             26.75   \n",
       "2021-02-26                  NaN                               NaN   \n",
       "2021-03-01                  NaN                               NaN   \n",
       "2021-03-02                  NaN                               NaN   \n",
       "\n",
       "            marathon_oil_corporation  pioneer_natural_resources_company  \\\n",
       "date                                                                      \n",
       "2020-02-17                       NaN                                NaN   \n",
       "2020-02-18                     10.30                             135.56   \n",
       "2020-02-19                     10.47                             141.17   \n",
       "2020-02-20                     10.25                             142.53   \n",
       "2020-02-21                     10.11                             142.25   \n",
       "...                              ...                                ...   \n",
       "2021-02-24                     11.84                             150.06   \n",
       "2021-02-25                     11.30                             149.05   \n",
       "2021-02-26                       NaN                                NaN   \n",
       "2021-03-01                       NaN                                NaN   \n",
       "2021-03-02                       NaN                                NaN   \n",
       "\n",
       "            conocophillips  exxon_mobil_corporation  \\\n",
       "date                                                  \n",
       "2020-02-17             NaN                      NaN   \n",
       "2020-02-18           58.30                    59.88   \n",
       "2020-02-19           59.26                    60.34   \n",
       "2020-02-20           58.88                    59.86   \n",
       "2020-02-21           58.44                    59.13   \n",
       "...                    ...                      ...   \n",
       "2021-02-24           54.67                    56.70   \n",
       "2021-02-25           53.03                    55.76   \n",
       "2021-02-26             NaN                      NaN   \n",
       "2021-03-01             NaN                      NaN   \n",
       "2021-03-02             NaN                      NaN   \n",
       "\n",
       "            marathon_petroleum_corporation  workplaces  retail_and_recreation  \\\n",
       "date                                                                            \n",
       "2020-02-17                             NaN  -17.756044               4.049697   \n",
       "2020-02-18                           56.47   -0.006305              -0.211659   \n",
       "2020-02-19                           57.69    1.001656               2.222899   \n",
       "2020-02-20                           60.26   -0.387448               0.192474   \n",
       "2020-02-21                           59.13    0.547162               2.786383   \n",
       "...                                    ...         ...                    ...   \n",
       "2021-02-24                           56.65  -18.923493              -6.442705   \n",
       "2021-02-25                           55.07  -19.029221              -8.706634   \n",
       "2021-02-26                             NaN  -18.122059             -11.026122   \n",
       "2021-03-01                             NaN  -18.512951              -8.222857   \n",
       "2021-03-02                             NaN  -19.297542              -7.359199   \n",
       "\n",
       "            grocery_and_pharmacy  residential  transit_stations      parks  \\\n",
       "date                                                                         \n",
       "2020-02-17             -0.375113     4.405907          1.903259  28.271605   \n",
       "2020-02-18             -1.377153     1.345745          2.440042   5.466077   \n",
       "2020-02-19              0.639556     0.345455          2.634615   8.153166   \n",
       "2020-02-20             -0.167570     1.922258          2.098260  -1.300847   \n",
       "2020-02-21             -1.632662     1.082046          3.656008   6.725381   \n",
       "...                          ...          ...               ...        ...   \n",
       "2021-02-24             -2.626381     6.734819        -12.945525   7.219697   \n",
       "2021-02-25             -3.693143     7.026578        -13.389535  -2.223188   \n",
       "2021-02-26             -7.390536     7.725445        -13.963636  -8.750973   \n",
       "2021-03-01             -3.490489     6.898305        -13.624381 -11.995798   \n",
       "2021-03-02             -2.265668     7.000000        -13.333004  -3.674521   \n",
       "\n",
       "            int_news_sentiment  na_news_sentiment  \n",
       "date                                               \n",
       "2020-02-17                 NaN                NaN  \n",
       "2020-02-18                 NaN                NaN  \n",
       "2020-02-19                 NaN                NaN  \n",
       "2020-02-20                -0.2                NaN  \n",
       "2020-02-21                 NaN                NaN  \n",
       "...                        ...                ...  \n",
       "2021-02-24                -0.1              -0.50  \n",
       "2021-02-25                 0.0               0.07  \n",
       "2021-02-26                -0.3              -0.40  \n",
       "2021-03-01                 NaN                NaN  \n",
       "2021-03-02                 NaN                NaN  \n",
       "\n",
       "[272 rows x 18 columns]"
      ]
     },
     "execution_count": 173,
     "metadata": {},
     "output_type": "execute_result"
    }
   ],
   "source": [
    "df_0"
   ]
  },
  {
   "cell_type": "code",
   "execution_count": null,
   "metadata": {},
   "outputs": [],
   "source": []
  }
 ],
 "metadata": {
  "kernelspec": {
   "display_name": "Python 3",
   "language": "python",
   "name": "python3"
  },
  "language_info": {
   "codemirror_mode": {
    "name": "ipython",
    "version": 3
   },
   "file_extension": ".py",
   "mimetype": "text/x-python",
   "name": "python",
   "nbconvert_exporter": "python",
   "pygments_lexer": "ipython3",
   "version": "3.8.3"
  }
 },
 "nbformat": 4,
 "nbformat_minor": 4
}
