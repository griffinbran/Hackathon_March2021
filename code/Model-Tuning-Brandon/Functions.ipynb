{
 "cells": [
  {
   "cell_type": "code",
   "execution_count": 1,
   "metadata": {},
   "outputs": [],
   "source": [
    "# Load Data Function\n",
    "def LOAD_DATA(filepath, filename):\n",
    "    # Import Libraries\n",
    "    import pandas as pd\n",
    "    \n",
    "    # Read CSV files\n",
    "    if filename.endswith('.csv'):\n",
    "        new_df = pd.read_csv(filepath+filename)\n",
    "\n",
    "    # Read Excel files\n",
    "    elif filename.endswith('.xlsx'):\n",
    "        new_df = pd.read_excel(filepath+filename)\n",
    "    print(type(new_df.index))\n",
    "    if type(new_df.index) != pd.core.indexes.datetimes.DatetimeIndex:\n",
    "        for col in new_df.columns:\n",
    "            if col.lower().find('date') != -1:\n",
    "                print(f\"TIMESTAMP FOUND! '{col}'\")\n",
    "                print()\n",
    "                new_df['date'] = pd.to_datetime(new_df[col]) # format = '%Y/%m/%d'\n",
    "                new_df.set_index('date', inplace = True)\n",
    "                # If datetime col was already == 'date', no need to drop col after set_index, otherwise...\n",
    "                if col != 'date':\n",
    "                    new_df.drop(columns = col, inplace = True)\n",
    "                \n",
    "    # Try to identify the date column\n",
    "    elif type(new_df.index) == pd.core.indexes.datetimes.DatetimeIndex:\n",
    "        print('Index already in datetime')\n",
    "        \n",
    "    display(new_df.info())\n",
    "    return new_df"
   ]
  }
 ],
 "metadata": {
  "kernelspec": {
   "display_name": "Python 3",
   "language": "python",
   "name": "python3"
  },
  "language_info": {
   "codemirror_mode": {
    "name": "ipython",
    "version": 3
   },
   "file_extension": ".py",
   "mimetype": "text/x-python",
   "name": "python",
   "nbconvert_exporter": "python",
   "pygments_lexer": "ipython3",
   "version": "3.8.3"
  }
 },
 "nbformat": 4,
 "nbformat_minor": 4
}
